{
 "cells": [
  {
   "cell_type": "code",
   "execution_count": 1,
   "id": "bc0a5c5a",
   "metadata": {
    "_cell_guid": "9ce112f4-e8be-4368-b6f5-2cd3b38d8e1e",
    "_uuid": "0254fc90-df78-4d2c-9c0d-8f1c79171042",
    "collapsed": false,
    "execution": {
     "iopub.execute_input": "2024-05-01T17:21:12.067988Z",
     "iopub.status.busy": "2024-05-01T17:21:12.067274Z",
     "iopub.status.idle": "2024-05-01T17:21:39.620168Z",
     "shell.execute_reply": "2024-05-01T17:21:39.619165Z"
    },
    "jupyter": {
     "outputs_hidden": false
    },
    "papermill": {
     "duration": 27.561309,
     "end_time": "2024-05-01T17:21:39.622724",
     "exception": false,
     "start_time": "2024-05-01T17:21:12.061415",
     "status": "completed"
    },
    "tags": []
   },
   "outputs": [
    {
     "name": "stdout",
     "output_type": "stream",
     "text": [
      "Collecting faiss-gpu\r\n",
      "  Downloading faiss_gpu-1.7.2-cp310-cp310-manylinux_2_17_x86_64.manylinux2014_x86_64.whl.metadata (1.4 kB)\r\n",
      "Collecting pytorch-metric-learning\r\n",
      "  Downloading pytorch_metric_learning-2.5.0-py3-none-any.whl.metadata (17 kB)\r\n",
      "Requirement already satisfied: numpy in /opt/conda/lib/python3.10/site-packages (from pytorch-metric-learning) (1.26.4)\r\n",
      "Requirement already satisfied: scikit-learn in /opt/conda/lib/python3.10/site-packages (from pytorch-metric-learning) (1.2.2)\r\n",
      "Requirement already satisfied: torch>=1.6.0 in /opt/conda/lib/python3.10/site-packages (from pytorch-metric-learning) (2.1.2)\r\n",
      "Requirement already satisfied: tqdm in /opt/conda/lib/python3.10/site-packages (from pytorch-metric-learning) (4.66.1)\r\n",
      "Requirement already satisfied: filelock in /opt/conda/lib/python3.10/site-packages (from torch>=1.6.0->pytorch-metric-learning) (3.13.1)\r\n",
      "Requirement already satisfied: typing-extensions in /opt/conda/lib/python3.10/site-packages (from torch>=1.6.0->pytorch-metric-learning) (4.9.0)\r\n",
      "Requirement already satisfied: sympy in /opt/conda/lib/python3.10/site-packages (from torch>=1.6.0->pytorch-metric-learning) (1.12)\r\n",
      "Requirement already satisfied: networkx in /opt/conda/lib/python3.10/site-packages (from torch>=1.6.0->pytorch-metric-learning) (3.2.1)\r\n",
      "Requirement already satisfied: jinja2 in /opt/conda/lib/python3.10/site-packages (from torch>=1.6.0->pytorch-metric-learning) (3.1.2)\r\n",
      "Requirement already satisfied: fsspec in /opt/conda/lib/python3.10/site-packages (from torch>=1.6.0->pytorch-metric-learning) (2024.2.0)\r\n",
      "Requirement already satisfied: scipy>=1.3.2 in /opt/conda/lib/python3.10/site-packages (from scikit-learn->pytorch-metric-learning) (1.11.4)\r\n",
      "Requirement already satisfied: joblib>=1.1.1 in /opt/conda/lib/python3.10/site-packages (from scikit-learn->pytorch-metric-learning) (1.4.0)\r\n",
      "Requirement already satisfied: threadpoolctl>=2.0.0 in /opt/conda/lib/python3.10/site-packages (from scikit-learn->pytorch-metric-learning) (3.2.0)\r\n",
      "Requirement already satisfied: MarkupSafe>=2.0 in /opt/conda/lib/python3.10/site-packages (from jinja2->torch>=1.6.0->pytorch-metric-learning) (2.1.3)\r\n",
      "Requirement already satisfied: mpmath>=0.19 in /opt/conda/lib/python3.10/site-packages (from sympy->torch>=1.6.0->pytorch-metric-learning) (1.3.0)\r\n",
      "Downloading faiss_gpu-1.7.2-cp310-cp310-manylinux_2_17_x86_64.manylinux2014_x86_64.whl (85.5 MB)\r\n",
      "\u001b[2K   \u001b[90m━━━━━━━━━━━━━━━━━━━━━━━━━━━━━━━━━━━━━━━━\u001b[0m \u001b[32m85.5/85.5 MB\u001b[0m \u001b[31m19.7 MB/s\u001b[0m eta \u001b[36m0:00:00\u001b[0m\r\n",
      "\u001b[?25hDownloading pytorch_metric_learning-2.5.0-py3-none-any.whl (119 kB)\r\n",
      "\u001b[2K   \u001b[90m━━━━━━━━━━━━━━━━━━━━━━━━━━━━━━━━━━━━━━━━\u001b[0m \u001b[32m119.1/119.1 kB\u001b[0m \u001b[31m7.6 MB/s\u001b[0m eta \u001b[36m0:00:00\u001b[0m\r\n",
      "\u001b[?25hInstalling collected packages: faiss-gpu, pytorch-metric-learning\r\n",
      "Successfully installed faiss-gpu-1.7.2 pytorch-metric-learning-2.5.0\r\n"
     ]
    }
   ],
   "source": [
    "!pip install faiss-gpu pytorch-metric-learning\n",
    "from fastai.vision.all import *\n",
    "import logging\n",
    "import pytorch_metric_learning\n",
    "import pytorch_metric_learning.utils.logging_presets as logging_presets\n",
    "from pytorch_metric_learning import losses, miners, samplers, testers, trainers\n",
    "from pytorch_metric_learning.utils.accuracy_calculator import AccuracyCalculator\n",
    "DP = True if torch.cuda.device_count() > 1 else False"
   ]
  },
  {
   "cell_type": "code",
   "execution_count": 2,
   "id": "ac1cc35a",
   "metadata": {
    "execution": {
     "iopub.execute_input": "2024-05-01T17:21:39.638108Z",
     "iopub.status.busy": "2024-05-01T17:21:39.637818Z",
     "iopub.status.idle": "2024-05-01T17:21:47.226354Z",
     "shell.execute_reply": "2024-05-01T17:21:47.225383Z"
    },
    "papermill": {
     "duration": 7.598715,
     "end_time": "2024-05-01T17:21:47.228668",
     "exception": false,
     "start_time": "2024-05-01T17:21:39.629953",
     "status": "completed"
    },
    "tags": []
   },
   "outputs": [
    {
     "name": "stderr",
     "output_type": "stream",
     "text": [
      "Downloading: \"https://download.pytorch.org/models/efficientnet_v2_s-dd5fe13b.pth\" to /root/.cache/torch/hub/checkpoints/efficientnet_v2_s-dd5fe13b.pth\n",
      "100%|██████████| 82.7M/82.7M [00:05<00:00, 14.9MB/s]\n"
     ]
    }
   ],
   "source": [
    "class CustomModel(nn.Module):\n",
    "    def __init__(self, encoder, head):\n",
    "        super().__init__()\n",
    "        self.encoder = encoder\n",
    "        self.head = head\n",
    "\n",
    "    def forward(self, x):\n",
    "        x = self.encoder(x)\n",
    "        embeddings = self.head.embedding(x) \n",
    "        classifications = self.head.classifier(embeddings)  \n",
    "        return embeddings, classifications\n",
    "\n",
    "backbone=efficientnet_v2_s(weights=\"DEFAULT\")\n",
    "encoder = create_body(backbone)\n",
    "embedding = nn.Sequential(\n",
    "    AdaptiveConcatPool2d(),\n",
    "    Flatten(),\n",
    "    LinBnDrop(2560, 1024, bn=True, p=0.25, act=nn.SiLU(inplace=True)),\n",
    "    LinBnDrop(1024, 512, bn=True, p=0.25, act=nn.SiLU(inplace=True)),\n",
    "    LinBnDrop(512, 256, bn=True, p=0.5),\n",
    ")\n",
    "\n",
    "# 创建分类器\n",
    "classifier = LinBnDrop(256, 37, bn=True, p=0.5, act=None)\n",
    "# 创建模型\n",
    "head = nn.Sequential()\n",
    "# 添加 embedding 层\n",
    "head.add_module('embedding', embedding)\n",
    "\n",
    "# 添加 SiLU 激活函数\n",
    "# head.add_module('silu', nn.SiLU(inplace=True))\n",
    "# 添加 classifier 层\n",
    "head.add_module('classifier', classifier)\n",
    "apply_init(head, nn.init.kaiming_normal_)\n",
    "\n",
    "model=torch.nn.DataParallel(CustomModel(encoder, head)) if DP else CustomModel(encoder, head)\n",
    "def siamese_splitter(model):\n",
    "    return [params(model.module.encoder), params(model.module.head)] if DP else [params(model.encoder), params(model.head)]"
   ]
  },
  {
   "cell_type": "code",
   "execution_count": 3,
   "id": "3a465a71",
   "metadata": {
    "execution": {
     "iopub.execute_input": "2024-05-01T17:21:47.249710Z",
     "iopub.status.busy": "2024-05-01T17:21:47.248887Z",
     "iopub.status.idle": "2024-05-01T17:21:47.257312Z",
     "shell.execute_reply": "2024-05-01T17:21:47.256358Z"
    },
    "papermill": {
     "duration": 0.020842,
     "end_time": "2024-05-01T17:21:47.259212",
     "exception": false,
     "start_time": "2024-05-01T17:21:47.238370",
     "status": "completed"
    },
    "tags": []
   },
   "outputs": [
    {
     "data": {
      "text/plain": [
       "Sequential(\n",
       "  (embedding): Sequential(\n",
       "    (0): AdaptiveConcatPool2d(\n",
       "      (ap): AdaptiveAvgPool2d(output_size=1)\n",
       "      (mp): AdaptiveMaxPool2d(output_size=1)\n",
       "    )\n",
       "    (1): fastai.layers.Flatten(full=False)\n",
       "    (2): LinBnDrop(\n",
       "      (0): BatchNorm1d(2560, eps=1e-05, momentum=0.1, affine=True, track_running_stats=True)\n",
       "      (1): Dropout(p=0.25, inplace=False)\n",
       "      (2): Linear(in_features=2560, out_features=1024, bias=False)\n",
       "      (3): SiLU(inplace=True)\n",
       "    )\n",
       "    (3): LinBnDrop(\n",
       "      (0): BatchNorm1d(1024, eps=1e-05, momentum=0.1, affine=True, track_running_stats=True)\n",
       "      (1): Dropout(p=0.25, inplace=False)\n",
       "      (2): Linear(in_features=1024, out_features=512, bias=False)\n",
       "      (3): SiLU(inplace=True)\n",
       "    )\n",
       "    (4): LinBnDrop(\n",
       "      (0): BatchNorm1d(512, eps=1e-05, momentum=0.1, affine=True, track_running_stats=True)\n",
       "      (1): Dropout(p=0.5, inplace=False)\n",
       "      (2): Linear(in_features=512, out_features=256, bias=False)\n",
       "    )\n",
       "  )\n",
       "  (classifier): LinBnDrop(\n",
       "    (0): BatchNorm1d(256, eps=1e-05, momentum=0.1, affine=True, track_running_stats=True)\n",
       "    (1): Dropout(p=0.5, inplace=False)\n",
       "    (2): Linear(in_features=256, out_features=37, bias=False)\n",
       "  )\n",
       ")"
      ]
     },
     "execution_count": 3,
     "metadata": {},
     "output_type": "execute_result"
    }
   ],
   "source": [
    "head"
   ]
  },
  {
   "cell_type": "code",
   "execution_count": 4,
   "id": "bb3158ec",
   "metadata": {
    "execution": {
     "iopub.execute_input": "2024-05-01T17:21:47.279778Z",
     "iopub.status.busy": "2024-05-01T17:21:47.279417Z",
     "iopub.status.idle": "2024-05-01T17:21:47.283548Z",
     "shell.execute_reply": "2024-05-01T17:21:47.282609Z"
    },
    "papermill": {
     "duration": 0.016922,
     "end_time": "2024-05-01T17:21:47.285610",
     "exception": false,
     "start_time": "2024-05-01T17:21:47.268688",
     "status": "completed"
    },
    "tags": []
   },
   "outputs": [],
   "source": [
    "#model"
   ]
  },
  {
   "cell_type": "code",
   "execution_count": 5,
   "id": "304fa0ed",
   "metadata": {
    "execution": {
     "iopub.execute_input": "2024-05-01T17:21:47.306311Z",
     "iopub.status.busy": "2024-05-01T17:21:47.306046Z",
     "iopub.status.idle": "2024-05-01T17:22:05.539520Z",
     "shell.execute_reply": "2024-05-01T17:22:05.538719Z"
    },
    "papermill": {
     "duration": 18.246388,
     "end_time": "2024-05-01T17:22:05.541764",
     "exception": false,
     "start_time": "2024-05-01T17:21:47.295376",
     "status": "completed"
    },
    "tags": []
   },
   "outputs": [],
   "source": [
    "from pytorch_metric_learning import distances, losses, miners, reducers, testers,regularizers\n",
    "from torchvision import datasets, transforms\n",
    "from pytorch_metric_learning.utils.accuracy_calculator import AccuracyCalculator\n",
    "from collections import defaultdict\n",
    "import random\n",
    "\n",
    "def get_image_files_sample(path):\n",
    "    files = get_image_files(path)\n",
    "    label_pattern = r'(.+)_\\d+.jpg$'\n",
    "    label_func = using_attr(RegexLabeller(label_pattern), 'name')\n",
    "    label_to_files = defaultdict(list)\n",
    "    for file in files:\n",
    "        label = label_func(file)\n",
    "        label_to_files[label].append(file)\n",
    "    sampled_files = []\n",
    "    for files in label_to_files.values():\n",
    "        sampled_files.extend(random.sample(files, min(50, len(files))))\n",
    "    return sampled_files\n",
    "\n",
    "pets = DataBlock(blocks=(ImageBlock, CategoryBlock), \n",
    "                 get_items=get_image_files_sample, \n",
    "                 splitter=RandomSplitter(seed=42),\n",
    "                 get_y=using_attr(RegexLabeller(r'(.+)_\\d+.jpg$'), 'name'),\n",
    "                 item_tfms=Resize(460),\n",
    "                 batch_tfms=aug_transforms(size=224))\n",
    "loaders = pets.dataloaders(\"/kaggle/input/the-oxfordiiit-pet-dataset/images\")"
   ]
  },
  {
   "cell_type": "code",
   "execution_count": 6,
   "id": "c7e27a2c",
   "metadata": {
    "execution": {
     "iopub.execute_input": "2024-05-01T17:22:05.562747Z",
     "iopub.status.busy": "2024-05-01T17:22:05.562460Z",
     "iopub.status.idle": "2024-05-01T17:22:05.566211Z",
     "shell.execute_reply": "2024-05-01T17:22:05.565417Z"
    },
    "papermill": {
     "duration": 0.016371,
     "end_time": "2024-05-01T17:22:05.568077",
     "exception": false,
     "start_time": "2024-05-01T17:22:05.551706",
     "status": "completed"
    },
    "tags": []
   },
   "outputs": [],
   "source": [
    "#len(loaders.vocab)"
   ]
  },
  {
   "cell_type": "code",
   "execution_count": 7,
   "id": "30e6bb1a",
   "metadata": {
    "execution": {
     "iopub.execute_input": "2024-05-01T17:22:05.588611Z",
     "iopub.status.busy": "2024-05-01T17:22:05.588331Z",
     "iopub.status.idle": "2024-05-01T17:22:05.591913Z",
     "shell.execute_reply": "2024-05-01T17:22:05.591170Z"
    },
    "papermill": {
     "duration": 0.015926,
     "end_time": "2024-05-01T17:22:05.593739",
     "exception": false,
     "start_time": "2024-05-01T17:22:05.577813",
     "status": "completed"
    },
    "tags": []
   },
   "outputs": [],
   "source": [
    "#loaders.train.show_batch(max_n=6, nrows=2)"
   ]
  },
  {
   "cell_type": "code",
   "execution_count": 8,
   "id": "54f1c577",
   "metadata": {
    "execution": {
     "iopub.execute_input": "2024-05-01T17:22:05.614885Z",
     "iopub.status.busy": "2024-05-01T17:22:05.614631Z",
     "iopub.status.idle": "2024-05-01T17:22:05.618096Z",
     "shell.execute_reply": "2024-05-01T17:22:05.617320Z"
    },
    "papermill": {
     "duration": 0.016589,
     "end_time": "2024-05-01T17:22:05.619932",
     "exception": false,
     "start_time": "2024-05-01T17:22:05.603343",
     "status": "completed"
    },
    "tags": []
   },
   "outputs": [],
   "source": [
    "#loaders.valid.show_batch(max_n=6, nrows=2)"
   ]
  },
  {
   "cell_type": "code",
   "execution_count": 9,
   "id": "8a0135ec",
   "metadata": {
    "execution": {
     "iopub.execute_input": "2024-05-01T17:22:05.640257Z",
     "iopub.status.busy": "2024-05-01T17:22:05.640010Z",
     "iopub.status.idle": "2024-05-01T17:22:05.649857Z",
     "shell.execute_reply": "2024-05-01T17:22:05.649164Z"
    },
    "papermill": {
     "duration": 0.022072,
     "end_time": "2024-05-01T17:22:05.651676",
     "exception": false,
     "start_time": "2024-05-01T17:22:05.629604",
     "status": "completed"
    },
    "tags": []
   },
   "outputs": [],
   "source": [
    "distance = distances.CosineSimilarity()\n",
    "reducer = reducers.ThresholdReducer(low=0)\n",
    "loss_func = losses.TripletMarginLoss(margin=0.2, distance=distance, reducer=reducer)\n",
    "mining_func = miners.TripletMarginMiner(margin=0.2, distance=distance, type_of_triplets=\"semihard\")\n",
    "classification_loss = torch.nn.CrossEntropyLoss()\n",
    "\n",
    "def mined_loss(miner, loss_func):\n",
    "    def loss(embeddings, labels):\n",
    "        mined = miner(embeddings, labels)\n",
    "        return loss_func(embeddings, labels, mined)\n",
    "    return loss\n",
    "  \n",
    "my_loss = mined_loss(miner = mining_func, loss_func = loss_func)\n",
    "\n",
    "class CombinedLoss(nn.Module):\n",
    "    def __init__(self, embed_loss_func, class_loss_func, without_embed=False, without_ce=False):\n",
    "        super().__init__()\n",
    "        self.embed_loss_func = embed_loss_func\n",
    "        self.class_loss_func = class_loss_func\n",
    "        self.without_embed = without_embed\n",
    "        self.without_ce = without_ce\n",
    "    def forward(self, preds, target):\n",
    "        embeddings, classifications = preds\n",
    "        embed_loss = self.embed_loss_func(embeddings, target)\n",
    "        class_loss = self.class_loss_func(classifications, target)\n",
    "        if self.without_embed:\n",
    "            return class_loss\n",
    "        elif self.without_ce:\n",
    "            return embed_loss\n",
    "        else:\n",
    "            return embed_loss + class_loss\n",
    "\n",
    "combined_loss = CombinedLoss(my_loss, classification_loss)"
   ]
  },
  {
   "cell_type": "code",
   "execution_count": 10,
   "id": "28a6b5a1",
   "metadata": {
    "execution": {
     "iopub.execute_input": "2024-05-01T17:22:05.672064Z",
     "iopub.status.busy": "2024-05-01T17:22:05.671806Z",
     "iopub.status.idle": "2024-05-01T17:22:05.681377Z",
     "shell.execute_reply": "2024-05-01T17:22:05.680507Z"
    },
    "papermill": {
     "duration": 0.021893,
     "end_time": "2024-05-01T17:22:05.683263",
     "exception": false,
     "start_time": "2024-05-01T17:22:05.661370",
     "status": "completed"
    },
    "tags": []
   },
   "outputs": [],
   "source": [
    "from sklearn.metrics import precision_score, recall_score, f1_score\n",
    "def accuracy(inp, targ, axis=-1):\n",
    "    \"Compute accuracy with `targ` when `pred` is bs * n_classes\"\n",
    "    pred,targ = flatten_check(inp[-1].argmax(dim=axis), targ)\n",
    "    return (pred == targ).float().mean()\n",
    "\n",
    "def precision(inp, targ):\n",
    "    pred = inp[-1].argmax(dim=-1).detach().cpu().numpy()\n",
    "    targ = targ.detach().cpu().numpy()\n",
    "    return precision_score(targ, pred, average='macro',zero_division=1)\n",
    "\n",
    "def recall(inp, targ):\n",
    "    pred = inp[-1].argmax(dim=-1).detach().cpu().numpy()\n",
    "    targ = targ.detach().cpu().numpy()\n",
    "    return recall_score(targ, pred, average='macro',zero_division=1)\n",
    "\n",
    "def f1score(inp, targ):\n",
    "    pred = inp[-1].argmax(dim=-1).detach().cpu().numpy()\n",
    "    targ = targ.detach().cpu().numpy()\n",
    "    return f1_score(targ, pred, average='macro')\n",
    "\n",
    "learn=Learner(loaders, \n",
    "              model,\n",
    "              loss_func=combined_loss,\n",
    "              splitter=siamese_splitter,\n",
    "              cbs=[ShowGraphCallback],\n",
    "              metrics=[accuracy,precision,recall,f1score])"
   ]
  },
  {
   "cell_type": "code",
   "execution_count": 11,
   "id": "c3e11e39",
   "metadata": {
    "execution": {
     "iopub.execute_input": "2024-05-01T17:22:05.703736Z",
     "iopub.status.busy": "2024-05-01T17:22:05.703483Z",
     "iopub.status.idle": "2024-05-01T17:28:52.644584Z",
     "shell.execute_reply": "2024-05-01T17:28:52.643434Z"
    },
    "papermill": {
     "duration": 406.953896,
     "end_time": "2024-05-01T17:28:52.646851",
     "exception": false,
     "start_time": "2024-05-01T17:22:05.692955",
     "status": "completed"
    },
    "tags": []
   },
   "outputs": [
    {
     "data": {
      "text/html": [
       "\n",
       "<style>\n",
       "    /* Turns off some styling */\n",
       "    progress {\n",
       "        /* gets rid of default border in Firefox and Opera. */\n",
       "        border: none;\n",
       "        /* Needs to be in here for Safari polyfill so background images work as expected. */\n",
       "        background-size: auto;\n",
       "    }\n",
       "    progress:not([value]), progress:not([value])::-webkit-progress-bar {\n",
       "        background: repeating-linear-gradient(45deg, #7e7e7e, #7e7e7e 10px, #5c5c5c 10px, #5c5c5c 20px);\n",
       "    }\n",
       "    .progress-bar-interrupted, .progress-bar-interrupted::-webkit-progress-bar {\n",
       "        background: #F44336;\n",
       "    }\n",
       "</style>\n"
      ],
      "text/plain": [
       "<IPython.core.display.HTML object>"
      ]
     },
     "metadata": {},
     "output_type": "display_data"
    },
    {
     "data": {
      "text/html": [
       "<table border=\"1\" class=\"dataframe\">\n",
       "  <thead>\n",
       "    <tr style=\"text-align: left;\">\n",
       "      <th>epoch</th>\n",
       "      <th>train_loss</th>\n",
       "      <th>valid_loss</th>\n",
       "      <th>accuracy</th>\n",
       "      <th>precision</th>\n",
       "      <th>recall</th>\n",
       "      <th>f1score</th>\n",
       "      <th>time</th>\n",
       "    </tr>\n",
       "  </thead>\n",
       "  <tbody>\n",
       "    <tr>\n",
       "      <td>0</td>\n",
       "      <td>5.134157</td>\n",
       "      <td>3.302307</td>\n",
       "      <td>0.189189</td>\n",
       "      <td>0.432172</td>\n",
       "      <td>0.284053</td>\n",
       "      <td>0.127060</td>\n",
       "      <td>00:14</td>\n",
       "    </tr>\n",
       "    <tr>\n",
       "      <td>1</td>\n",
       "      <td>4.529515</td>\n",
       "      <td>2.197340</td>\n",
       "      <td>0.562162</td>\n",
       "      <td>0.689728</td>\n",
       "      <td>0.605432</td>\n",
       "      <td>0.485228</td>\n",
       "      <td>00:11</td>\n",
       "    </tr>\n",
       "    <tr>\n",
       "      <td>2</td>\n",
       "      <td>3.761594</td>\n",
       "      <td>1.270831</td>\n",
       "      <td>0.745946</td>\n",
       "      <td>0.792831</td>\n",
       "      <td>0.784078</td>\n",
       "      <td>0.677054</td>\n",
       "      <td>00:11</td>\n",
       "    </tr>\n",
       "    <tr>\n",
       "      <td>3</td>\n",
       "      <td>2.997996</td>\n",
       "      <td>0.798462</td>\n",
       "      <td>0.835135</td>\n",
       "      <td>0.850437</td>\n",
       "      <td>0.845584</td>\n",
       "      <td>0.777445</td>\n",
       "      <td>00:11</td>\n",
       "    </tr>\n",
       "    <tr>\n",
       "      <td>4</td>\n",
       "      <td>2.344412</td>\n",
       "      <td>0.606219</td>\n",
       "      <td>0.862162</td>\n",
       "      <td>0.876560</td>\n",
       "      <td>0.866927</td>\n",
       "      <td>0.808667</td>\n",
       "      <td>00:11</td>\n",
       "    </tr>\n",
       "    <tr>\n",
       "      <td>5</td>\n",
       "      <td>1.840215</td>\n",
       "      <td>0.514177</td>\n",
       "      <td>0.864865</td>\n",
       "      <td>0.867402</td>\n",
       "      <td>0.870050</td>\n",
       "      <td>0.804996</td>\n",
       "      <td>00:11</td>\n",
       "    </tr>\n",
       "    <tr>\n",
       "      <td>6</td>\n",
       "      <td>1.468596</td>\n",
       "      <td>0.490273</td>\n",
       "      <td>0.872973</td>\n",
       "      <td>0.873164</td>\n",
       "      <td>0.883645</td>\n",
       "      <td>0.825664</td>\n",
       "      <td>00:11</td>\n",
       "    </tr>\n",
       "    <tr>\n",
       "      <td>7</td>\n",
       "      <td>1.183148</td>\n",
       "      <td>0.467791</td>\n",
       "      <td>0.872973</td>\n",
       "      <td>0.873121</td>\n",
       "      <td>0.881756</td>\n",
       "      <td>0.819623</td>\n",
       "      <td>00:11</td>\n",
       "    </tr>\n",
       "    <tr>\n",
       "      <td>8</td>\n",
       "      <td>0.991603</td>\n",
       "      <td>0.469239</td>\n",
       "      <td>0.875676</td>\n",
       "      <td>0.897198</td>\n",
       "      <td>0.883628</td>\n",
       "      <td>0.831744</td>\n",
       "      <td>00:11</td>\n",
       "    </tr>\n",
       "    <tr>\n",
       "      <td>9</td>\n",
       "      <td>0.848481</td>\n",
       "      <td>0.422996</td>\n",
       "      <td>0.872973</td>\n",
       "      <td>0.870544</td>\n",
       "      <td>0.876930</td>\n",
       "      <td>0.807352</td>\n",
       "      <td>00:11</td>\n",
       "    </tr>\n",
       "    <tr>\n",
       "      <td>10</td>\n",
       "      <td>0.742240</td>\n",
       "      <td>0.464845</td>\n",
       "      <td>0.881081</td>\n",
       "      <td>0.884437</td>\n",
       "      <td>0.883955</td>\n",
       "      <td>0.826982</td>\n",
       "      <td>00:11</td>\n",
       "    </tr>\n",
       "    <tr>\n",
       "      <td>11</td>\n",
       "      <td>0.681912</td>\n",
       "      <td>0.418859</td>\n",
       "      <td>0.910811</td>\n",
       "      <td>0.916641</td>\n",
       "      <td>0.917482</td>\n",
       "      <td>0.877324</td>\n",
       "      <td>00:12</td>\n",
       "    </tr>\n",
       "    <tr>\n",
       "      <td>12</td>\n",
       "      <td>0.632088</td>\n",
       "      <td>0.504956</td>\n",
       "      <td>0.864865</td>\n",
       "      <td>0.878931</td>\n",
       "      <td>0.872398</td>\n",
       "      <td>0.812476</td>\n",
       "      <td>00:11</td>\n",
       "    </tr>\n",
       "    <tr>\n",
       "      <td>13</td>\n",
       "      <td>0.563021</td>\n",
       "      <td>0.486263</td>\n",
       "      <td>0.867568</td>\n",
       "      <td>0.888485</td>\n",
       "      <td>0.867999</td>\n",
       "      <td>0.820279</td>\n",
       "      <td>00:11</td>\n",
       "    </tr>\n",
       "    <tr>\n",
       "      <td>14</td>\n",
       "      <td>0.515175</td>\n",
       "      <td>0.440991</td>\n",
       "      <td>0.875676</td>\n",
       "      <td>0.874868</td>\n",
       "      <td>0.879967</td>\n",
       "      <td>0.807438</td>\n",
       "      <td>00:11</td>\n",
       "    </tr>\n",
       "  </tbody>\n",
       "</table>"
      ],
      "text/plain": [
       "<IPython.core.display.HTML object>"
      ]
     },
     "metadata": {},
     "output_type": "display_data"
    },
    {
     "data": {
      "image/png": "[encoded data removed]",
      "text/plain": [
       "<Figure size 600x400 with 1 Axes>"
      ]
     },
     "metadata": {},
     "output_type": "display_data"
    },
    {
     "data": {
      "text/html": [
       "\n",
       "<style>\n",
       "    /* Turns off some styling */\n",
       "    progress {\n",
       "        /* gets rid of default border in Firefox and Opera. */\n",
       "        border: none;\n",
       "        /* Needs to be in here for Safari polyfill so background images work as expected. */\n",
       "        background-size: auto;\n",
       "    }\n",
       "    progress:not([value]), progress:not([value])::-webkit-progress-bar {\n",
       "        background: repeating-linear-gradient(45deg, #7e7e7e, #7e7e7e 10px, #5c5c5c 10px, #5c5c5c 20px);\n",
       "    }\n",
       "    .progress-bar-interrupted, .progress-bar-interrupted::-webkit-progress-bar {\n",
       "        background: #F44336;\n",
       "    }\n",
       "</style>\n"
      ],
      "text/plain": [
       "<IPython.core.display.HTML object>"
      ]
     },
     "metadata": {},
     "output_type": "display_data"
    },
    {
     "data": {
      "text/html": [
       "<table border=\"1\" class=\"dataframe\">\n",
       "  <thead>\n",
       "    <tr style=\"text-align: left;\">\n",
       "      <th>epoch</th>\n",
       "      <th>train_loss</th>\n",
       "      <th>valid_loss</th>\n",
       "      <th>accuracy</th>\n",
       "      <th>precision</th>\n",
       "      <th>recall</th>\n",
       "      <th>f1score</th>\n",
       "      <th>time</th>\n",
       "    </tr>\n",
       "  </thead>\n",
       "  <tbody>\n",
       "    <tr>\n",
       "      <td>0</td>\n",
       "      <td>0.379528</td>\n",
       "      <td>0.420498</td>\n",
       "      <td>0.889189</td>\n",
       "      <td>0.887050</td>\n",
       "      <td>0.887206</td>\n",
       "      <td>0.827437</td>\n",
       "      <td>00:15</td>\n",
       "    </tr>\n",
       "    <tr>\n",
       "      <td>1</td>\n",
       "      <td>0.373205</td>\n",
       "      <td>0.434218</td>\n",
       "      <td>0.878378</td>\n",
       "      <td>0.884801</td>\n",
       "      <td>0.882937</td>\n",
       "      <td>0.815843</td>\n",
       "      <td>00:14</td>\n",
       "    </tr>\n",
       "    <tr>\n",
       "      <td>2</td>\n",
       "      <td>0.333109</td>\n",
       "      <td>0.440695</td>\n",
       "      <td>0.889189</td>\n",
       "      <td>0.900115</td>\n",
       "      <td>0.894942</td>\n",
       "      <td>0.837975</td>\n",
       "      <td>00:15</td>\n",
       "    </tr>\n",
       "    <tr>\n",
       "      <td>3</td>\n",
       "      <td>0.326756</td>\n",
       "      <td>0.417872</td>\n",
       "      <td>0.902703</td>\n",
       "      <td>0.903985</td>\n",
       "      <td>0.910629</td>\n",
       "      <td>0.857128</td>\n",
       "      <td>00:15</td>\n",
       "    </tr>\n",
       "    <tr>\n",
       "      <td>4</td>\n",
       "      <td>0.326481</td>\n",
       "      <td>0.453779</td>\n",
       "      <td>0.894595</td>\n",
       "      <td>0.902845</td>\n",
       "      <td>0.892608</td>\n",
       "      <td>0.838005</td>\n",
       "      <td>00:14</td>\n",
       "    </tr>\n",
       "    <tr>\n",
       "      <td>5</td>\n",
       "      <td>0.315230</td>\n",
       "      <td>0.426037</td>\n",
       "      <td>0.918919</td>\n",
       "      <td>0.924431</td>\n",
       "      <td>0.928795</td>\n",
       "      <td>0.889533</td>\n",
       "      <td>00:15</td>\n",
       "    </tr>\n",
       "    <tr>\n",
       "      <td>6</td>\n",
       "      <td>0.294774</td>\n",
       "      <td>0.414534</td>\n",
       "      <td>0.910811</td>\n",
       "      <td>0.914095</td>\n",
       "      <td>0.914929</td>\n",
       "      <td>0.863684</td>\n",
       "      <td>00:14</td>\n",
       "    </tr>\n",
       "    <tr>\n",
       "      <td>7</td>\n",
       "      <td>0.269802</td>\n",
       "      <td>0.439398</td>\n",
       "      <td>0.886486</td>\n",
       "      <td>0.883809</td>\n",
       "      <td>0.895625</td>\n",
       "      <td>0.829528</td>\n",
       "      <td>00:14</td>\n",
       "    </tr>\n",
       "    <tr>\n",
       "      <td>8</td>\n",
       "      <td>0.249135</td>\n",
       "      <td>0.418689</td>\n",
       "      <td>0.897297</td>\n",
       "      <td>0.897380</td>\n",
       "      <td>0.903252</td>\n",
       "      <td>0.840006</td>\n",
       "      <td>00:15</td>\n",
       "    </tr>\n",
       "    <tr>\n",
       "      <td>9</td>\n",
       "      <td>0.233110</td>\n",
       "      <td>0.426539</td>\n",
       "      <td>0.905405</td>\n",
       "      <td>0.905804</td>\n",
       "      <td>0.913350</td>\n",
       "      <td>0.859301</td>\n",
       "      <td>00:14</td>\n",
       "    </tr>\n",
       "    <tr>\n",
       "      <td>10</td>\n",
       "      <td>0.221952</td>\n",
       "      <td>0.397785</td>\n",
       "      <td>0.913514</td>\n",
       "      <td>0.916104</td>\n",
       "      <td>0.922686</td>\n",
       "      <td>0.877975</td>\n",
       "      <td>00:15</td>\n",
       "    </tr>\n",
       "    <tr>\n",
       "      <td>11</td>\n",
       "      <td>0.206563</td>\n",
       "      <td>0.412394</td>\n",
       "      <td>0.900000</td>\n",
       "      <td>0.905844</td>\n",
       "      <td>0.905712</td>\n",
       "      <td>0.852740</td>\n",
       "      <td>00:14</td>\n",
       "    </tr>\n",
       "    <tr>\n",
       "      <td>12</td>\n",
       "      <td>0.194008</td>\n",
       "      <td>0.406545</td>\n",
       "      <td>0.902703</td>\n",
       "      <td>0.908813</td>\n",
       "      <td>0.909835</td>\n",
       "      <td>0.859105</td>\n",
       "      <td>00:15</td>\n",
       "    </tr>\n",
       "    <tr>\n",
       "      <td>13</td>\n",
       "      <td>0.192483</td>\n",
       "      <td>0.396088</td>\n",
       "      <td>0.905405</td>\n",
       "      <td>0.915769</td>\n",
       "      <td>0.912209</td>\n",
       "      <td>0.864438</td>\n",
       "      <td>00:15</td>\n",
       "    </tr>\n",
       "    <tr>\n",
       "      <td>14</td>\n",
       "      <td>0.185263</td>\n",
       "      <td>0.401929</td>\n",
       "      <td>0.908108</td>\n",
       "      <td>0.912476</td>\n",
       "      <td>0.913735</td>\n",
       "      <td>0.866315</td>\n",
       "      <td>00:15</td>\n",
       "    </tr>\n",
       "  </tbody>\n",
       "</table>"
      ],
      "text/plain": [
       "<IPython.core.display.HTML object>"
      ]
     },
     "metadata": {},
     "output_type": "display_data"
    },
    {
     "data": {
      "image/png": "[encoded data removed]",
      "text/plain": [
       "<Figure size 600x400 with 1 Axes>"
      ]
     },
     "metadata": {},
     "output_type": "display_data"
    }
   ],
   "source": [
    "learn.fine_tune(15,freeze_epochs=15)"
   ]
  },
  {
   "cell_type": "code",
   "execution_count": 12,
   "id": "bf025947",
   "metadata": {
    "execution": {
     "iopub.execute_input": "2024-05-01T17:28:52.673652Z",
     "iopub.status.busy": "2024-05-01T17:28:52.673262Z",
     "iopub.status.idle": "2024-05-01T17:28:54.854055Z",
     "shell.execute_reply": "2024-05-01T17:28:54.852827Z"
    },
    "papermill": {
     "duration": 2.197376,
     "end_time": "2024-05-01T17:28:54.856904",
     "exception": false,
     "start_time": "2024-05-01T17:28:52.659528",
     "status": "completed"
    },
    "tags": []
   },
   "outputs": [],
   "source": [
    "hooks = Hooks(model.module.head.embedding if DP else model.head.embedding, lambda m,i,o: o)\n",
    "ftrs = tensor([]).cuda()\n",
    "for i in learn.dls.valid:\n",
    "    learn.model(i[0])\n",
    "    hooks_output = nn.Flatten()(hooks.stored[-1])\n",
    "    hooks_output = hooks_output.to(ftrs.device)  # move hooks_output to the same device as ftrs\n",
    "    ftrs = torch.cat((ftrs, hooks_output))"
   ]
  },
  {
   "cell_type": "code",
   "execution_count": 13,
   "id": "887c7af5",
   "metadata": {
    "execution": {
     "iopub.execute_input": "2024-05-01T17:28:54.883977Z",
     "iopub.status.busy": "2024-05-01T17:28:54.883602Z",
     "iopub.status.idle": "2024-05-01T17:28:57.843927Z",
     "shell.execute_reply": "2024-05-01T17:28:57.842823Z"
    },
    "papermill": {
     "duration": 2.977022,
     "end_time": "2024-05-01T17:28:57.846292",
     "exception": false,
     "start_time": "2024-05-01T17:28:54.869270",
     "status": "completed"
    },
    "tags": []
   },
   "outputs": [
    {
     "data": {
      "image/png": "[encoded data removed]",
      "text/plain": [
       "<Figure size 640x480 with 1 Axes>"
      ]
     },
     "metadata": {},
     "output_type": "display_data"
    }
   ],
   "source": [
    "from sklearn.manifold import TSNE\n",
    "tsne = TSNE(n_components=2)\n",
    "output = tsne.fit_transform(ftrs.cpu().detach().numpy())\n",
    "for i in range(len(output)):\n",
    "    plt.plot(output[i, 0], output[i, 1], '.')"
   ]
  },
  {
   "cell_type": "code",
   "execution_count": 14,
   "id": "985549c7",
   "metadata": {
    "execution": {
     "iopub.execute_input": "2024-05-01T17:28:57.884588Z",
     "iopub.status.busy": "2024-05-01T17:28:57.883343Z",
     "iopub.status.idle": "2024-05-01T17:29:33.392840Z",
     "shell.execute_reply": "2024-05-01T17:29:33.391821Z"
    },
    "papermill": {
     "duration": 35.545779,
     "end_time": "2024-05-01T17:29:33.407996",
     "exception": false,
     "start_time": "2024-05-01T17:28:57.862217",
     "status": "completed"
    },
    "tags": []
   },
   "outputs": [
    {
     "name": "stderr",
     "output_type": "stream",
     "text": [
      "2024-05-01 17:29:14.878613: E external/local_xla/xla/stream_executor/cuda/cuda_dnn.cc:9261] Unable to register cuDNN factory: Attempting to register factory for plugin cuDNN when one has already been registered\n",
      "2024-05-01 17:29:14.878763: E external/local_xla/xla/stream_executor/cuda/cuda_fft.cc:607] Unable to register cuFFT factory: Attempting to register factory for plugin cuFFT when one has already been registered\n",
      "2024-05-01 17:29:15.009200: E external/local_xla/xla/stream_executor/cuda/cuda_blas.cc:1515] Unable to register cuBLAS factory: Attempting to register factory for plugin cuBLAS when one has already been registered\n"
     ]
    },
    {
     "data": {
      "image/png": "[encoded data removed]",
      "text/plain": [
       "<Figure size 640x480 with 1 Axes>"
      ]
     },
     "metadata": {},
     "output_type": "display_data"
    }
   ],
   "source": [
    "from umap import UMAP\n",
    "umap = UMAP(n_components=2)\n",
    "output = umap.fit_transform(ftrs.cpu().detach().numpy())\n",
    "for i in range(len(output)):\n",
    "    plt.plot(output[i, 0], output[i, 1], '.')"
   ]
  },
  {
   "cell_type": "code",
   "execution_count": null,
   "id": "772330ae",
   "metadata": {
    "papermill": {
     "duration": 0.013045,
     "end_time": "2024-05-01T17:29:33.434072",
     "exception": false,
     "start_time": "2024-05-01T17:29:33.421027",
     "status": "completed"
    },
    "tags": []
   },
   "outputs": [],
   "source": []
  }
 ],
 "metadata": {
  "kaggle": {
   "accelerator": "gpu",
   "dataSources": [
    {
     "datasetId": 112480,
     "sourceId": 268736,
     "sourceType": "datasetVersion"
    },
    {
     "datasetId": 4085269,
     "sourceId": 7089718,
     "sourceType": "datasetVersion"
    },
    {
     "datasetId": 4840012,
     "sourceId": 8176477,
     "sourceType": "datasetVersion"
    }
   ],
   "dockerImageVersionId": 30699,
   "isGpuEnabled": true,
   "isInternetEnabled": true,
   "language": "python",
   "sourceType": "notebook"
  },
  "kernelspec": {
   "display_name": "Python 3",
   "language": "python",
   "name": "python3"
  },
  "language_info": {
   "codemirror_mode": {
    "name": "ipython",
    "version": 3
   },
   "file_extension": ".py",
   "mimetype": "text/x-python",
   "name": "python",
   "nbconvert_exporter": "python",
   "pygments_lexer": "ipython3",
   "version": "3.10.13"
  },
  "papermill": {
   "default_parameters": {},
   "duration": 507.411701,
   "end_time": "2024-05-01T17:29:36.718753",
   "environment_variables": {},
   "exception": null,
   "input_path": "__notebook__.ipynb",
   "output_path": "__notebook__.ipynb",
   "parameters": {},
   "start_time": "2024-05-01T17:21:09.307052",
   "version": "2.5.0"
  }
 },
 "nbformat": 4,
 "nbformat_minor": 5
}
