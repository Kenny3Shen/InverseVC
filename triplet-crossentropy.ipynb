{
 "cells": [
  {
   "cell_type": "code",
   "execution_count": 1,
   "id": "fd12babe",
   "metadata": {
    "_cell_guid": "9ce112f4-e8be-4368-b6f5-2cd3b38d8e1e",
    "_uuid": "0254fc90-df78-4d2c-9c0d-8f1c79171042",
    "collapsed": false,
    "execution": {
     "iopub.execute_input": "2024-05-01T16:04:08.202667Z",
     "iopub.status.busy": "2024-05-01T16:04:08.202301Z",
     "iopub.status.idle": "2024-05-01T16:04:35.637754Z",
     "shell.execute_reply": "2024-05-01T16:04:35.636712Z"
    },
    "jupyter": {
     "outputs_hidden": false
    },
    "papermill": {
     "duration": 27.444285,
     "end_time": "2024-05-01T16:04:35.640201",
     "exception": false,
     "start_time": "2024-05-01T16:04:08.195916",
     "status": "completed"
    },
    "tags": []
   },
   "outputs": [
    {
     "name": "stdout",
     "output_type": "stream",
     "text": [
      "Collecting faiss-gpu\r\n",
      "  Downloading faiss_gpu-1.7.2-cp310-cp310-manylinux_2_17_x86_64.manylinux2014_x86_64.whl.metadata (1.4 kB)\r\n",
      "Collecting pytorch-metric-learning\r\n",
      "  Downloading pytorch_metric_learning-2.5.0-py3-none-any.whl.metadata (17 kB)\r\n",
      "Requirement already satisfied: numpy in /opt/conda/lib/python3.10/site-packages (from pytorch-metric-learning) (1.26.4)\r\n",
      "Requirement already satisfied: scikit-learn in /opt/conda/lib/python3.10/site-packages (from pytorch-metric-learning) (1.2.2)\r\n",
      "Requirement already satisfied: torch>=1.6.0 in /opt/conda/lib/python3.10/site-packages (from pytorch-metric-learning) (2.1.2)\r\n",
      "Requirement already satisfied: tqdm in /opt/conda/lib/python3.10/site-packages (from pytorch-metric-learning) (4.66.1)\r\n",
      "Requirement already satisfied: filelock in /opt/conda/lib/python3.10/site-packages (from torch>=1.6.0->pytorch-metric-learning) (3.13.1)\r\n",
      "Requirement already satisfied: typing-extensions in /opt/conda/lib/python3.10/site-packages (from torch>=1.6.0->pytorch-metric-learning) (4.9.0)\r\n",
      "Requirement already satisfied: sympy in /opt/conda/lib/python3.10/site-packages (from torch>=1.6.0->pytorch-metric-learning) (1.12)\r\n",
      "Requirement already satisfied: networkx in /opt/conda/lib/python3.10/site-packages (from torch>=1.6.0->pytorch-metric-learning) (3.2.1)\r\n",
      "Requirement already satisfied: jinja2 in /opt/conda/lib/python3.10/site-packages (from torch>=1.6.0->pytorch-metric-learning) (3.1.2)\r\n",
      "Requirement already satisfied: fsspec in /opt/conda/lib/python3.10/site-packages (from torch>=1.6.0->pytorch-metric-learning) (2024.2.0)\r\n",
      "Requirement already satisfied: scipy>=1.3.2 in /opt/conda/lib/python3.10/site-packages (from scikit-learn->pytorch-metric-learning) (1.11.4)\r\n",
      "Requirement already satisfied: joblib>=1.1.1 in /opt/conda/lib/python3.10/site-packages (from scikit-learn->pytorch-metric-learning) (1.4.0)\r\n",
      "Requirement already satisfied: threadpoolctl>=2.0.0 in /opt/conda/lib/python3.10/site-packages (from scikit-learn->pytorch-metric-learning) (3.2.0)\r\n",
      "Requirement already satisfied: MarkupSafe>=2.0 in /opt/conda/lib/python3.10/site-packages (from jinja2->torch>=1.6.0->pytorch-metric-learning) (2.1.3)\r\n",
      "Requirement already satisfied: mpmath>=0.19 in /opt/conda/lib/python3.10/site-packages (from sympy->torch>=1.6.0->pytorch-metric-learning) (1.3.0)\r\n",
      "Downloading faiss_gpu-1.7.2-cp310-cp310-manylinux_2_17_x86_64.manylinux2014_x86_64.whl (85.5 MB)\r\n",
      "\u001b[2K   \u001b[90m━━━━━━━━━━━━━━━━━━━━━━━━━━━━━━━━━━━━━━━━\u001b[0m \u001b[32m85.5/85.5 MB\u001b[0m \u001b[31m19.6 MB/s\u001b[0m eta \u001b[36m0:00:00\u001b[0m\r\n",
      "\u001b[?25hDownloading pytorch_metric_learning-2.5.0-py3-none-any.whl (119 kB)\r\n",
      "\u001b[2K   \u001b[90m━━━━━━━━━━━━━━━━━━━━━━━━━━━━━━━━━━━━━━━━\u001b[0m \u001b[32m119.1/119.1 kB\u001b[0m \u001b[31m8.2 MB/s\u001b[0m eta \u001b[36m0:00:00\u001b[0m\r\n",
      "\u001b[?25hInstalling collected packages: faiss-gpu, pytorch-metric-learning\r\n",
      "Successfully installed faiss-gpu-1.7.2 pytorch-metric-learning-2.5.0\r\n"
     ]
    }
   ],
   "source": [
    "!pip install faiss-gpu pytorch-metric-learning\n",
    "from fastai.vision.all import *\n",
    "import logging\n",
    "import pytorch_metric_learning\n",
    "import pytorch_metric_learning.utils.logging_presets as logging_presets\n",
    "from pytorch_metric_learning import losses, miners, samplers, testers, trainers\n",
    "from pytorch_metric_learning.utils.accuracy_calculator import AccuracyCalculator\n",
    "DP = True if torch.cuda.device_count() > 1 else False"
   ]
  },
  {
   "cell_type": "code",
   "execution_count": 2,
   "id": "9b919d64",
   "metadata": {
    "execution": {
     "iopub.execute_input": "2024-05-01T16:04:35.656841Z",
     "iopub.status.busy": "2024-05-01T16:04:35.656475Z",
     "iopub.status.idle": "2024-05-01T16:04:43.896827Z",
     "shell.execute_reply": "2024-05-01T16:04:43.895876Z"
    },
    "papermill": {
     "duration": 8.251228,
     "end_time": "2024-05-01T16:04:43.898991",
     "exception": false,
     "start_time": "2024-05-01T16:04:35.647763",
     "status": "completed"
    },
    "tags": []
   },
   "outputs": [
    {
     "name": "stderr",
     "output_type": "stream",
     "text": [
      "Downloading: \"https://download.pytorch.org/models/efficientnet_v2_s-dd5fe13b.pth\" to /root/.cache/torch/hub/checkpoints/efficientnet_v2_s-dd5fe13b.pth\n",
      "100%|██████████| 82.7M/82.7M [00:06<00:00, 13.7MB/s]\n"
     ]
    }
   ],
   "source": [
    "class CustomModel(nn.Module):\n",
    "    def __init__(self, encoder, head):\n",
    "        super().__init__()\n",
    "        self.encoder = encoder\n",
    "        self.head = head\n",
    "\n",
    "    def forward(self, x):\n",
    "        embeddings = self.get_embedding(x)\n",
    "        classifications = self.head(embeddings)\n",
    "        return nn.Flatten()(embeddings), classifications\n",
    "\n",
    "    def get_embedding(self, x):\n",
    "        x = self.encoder(x)\n",
    "        return x\n",
    "\n",
    "backbone=efficientnet_v2_s(weights=\"DEFAULT\")\n",
    "encoder = create_body(backbone)\n",
    "head = create_head(backbone.classifier[-1].in_features, 37, [1024, 512], 0.5, bn_final=True)\n",
    "apply_init(head, nn.init.kaiming_normal_)\n",
    "\n",
    "model=torch.nn.DataParallel(CustomModel(encoder, head)) if DP else CustomModel(encoder, head)\n",
    "def siamese_splitter(model):\n",
    "    return [params(model.module.encoder), params(model.module.head)] if DP else [params(model.encoder), params(model.head)]"
   ]
  },
  {
   "cell_type": "code",
   "execution_count": 3,
   "id": "9e23cef7",
   "metadata": {
    "execution": {
     "iopub.execute_input": "2024-05-01T16:04:43.919849Z",
     "iopub.status.busy": "2024-05-01T16:04:43.919545Z",
     "iopub.status.idle": "2024-05-01T16:04:43.923490Z",
     "shell.execute_reply": "2024-05-01T16:04:43.922680Z"
    },
    "papermill": {
     "duration": 0.01667,
     "end_time": "2024-05-01T16:04:43.925518",
     "exception": false,
     "start_time": "2024-05-01T16:04:43.908848",
     "status": "completed"
    },
    "tags": []
   },
   "outputs": [],
   "source": [
    "#model"
   ]
  },
  {
   "cell_type": "code",
   "execution_count": 4,
   "id": "9ba0e547",
   "metadata": {
    "execution": {
     "iopub.execute_input": "2024-05-01T16:04:43.946274Z",
     "iopub.status.busy": "2024-05-01T16:04:43.945982Z",
     "iopub.status.idle": "2024-05-01T16:05:06.449023Z",
     "shell.execute_reply": "2024-05-01T16:05:06.447899Z"
    },
    "papermill": {
     "duration": 22.517179,
     "end_time": "2024-05-01T16:05:06.452306",
     "exception": false,
     "start_time": "2024-05-01T16:04:43.935127",
     "status": "completed"
    },
    "tags": []
   },
   "outputs": [],
   "source": [
    "from pytorch_metric_learning import distances, losses, miners, reducers, testers,regularizers\n",
    "from torchvision import datasets, transforms\n",
    "from pytorch_metric_learning.utils.accuracy_calculator import AccuracyCalculator\n",
    "from collections import defaultdict\n",
    "import random\n",
    "\n",
    "def get_image_files_sample(path):\n",
    "    files = get_image_files(path)\n",
    "    label_pattern = r'(.+)_\\d+.jpg$'\n",
    "    label_func = using_attr(RegexLabeller(label_pattern), 'name')\n",
    "    label_to_files = defaultdict(list)\n",
    "    for file in files:\n",
    "        label = label_func(file)\n",
    "        label_to_files[label].append(file)\n",
    "    sampled_files = []\n",
    "    for files in label_to_files.values():\n",
    "        sampled_files.extend(random.sample(files, min(50, len(files))))\n",
    "    return sampled_files\n",
    "\n",
    "pets = DataBlock(blocks=(ImageBlock, CategoryBlock), \n",
    "                 get_items=get_image_files_sample, \n",
    "                 splitter=RandomSplitter(seed=42),\n",
    "                 get_y=using_attr(RegexLabeller(r'(.+)_\\d+.jpg$'), 'name'),\n",
    "                 item_tfms=Resize(460),\n",
    "                 batch_tfms=aug_transforms(size=224))\n",
    "loaders = pets.dataloaders(\"/kaggle/input/the-oxfordiiit-pet-dataset/images\")"
   ]
  },
  {
   "cell_type": "code",
   "execution_count": 5,
   "id": "fa949872",
   "metadata": {
    "execution": {
     "iopub.execute_input": "2024-05-01T16:05:06.482262Z",
     "iopub.status.busy": "2024-05-01T16:05:06.481799Z",
     "iopub.status.idle": "2024-05-01T16:05:06.488587Z",
     "shell.execute_reply": "2024-05-01T16:05:06.487409Z"
    },
    "papermill": {
     "duration": 0.022369,
     "end_time": "2024-05-01T16:05:06.490819",
     "exception": false,
     "start_time": "2024-05-01T16:05:06.468450",
     "status": "completed"
    },
    "tags": []
   },
   "outputs": [],
   "source": [
    "#len(loaders.vocab)"
   ]
  },
  {
   "cell_type": "code",
   "execution_count": 6,
   "id": "c4e70bc3",
   "metadata": {
    "execution": {
     "iopub.execute_input": "2024-05-01T16:05:06.521207Z",
     "iopub.status.busy": "2024-05-01T16:05:06.520308Z",
     "iopub.status.idle": "2024-05-01T16:05:06.525057Z",
     "shell.execute_reply": "2024-05-01T16:05:06.524036Z"
    },
    "papermill": {
     "duration": 0.02142,
     "end_time": "2024-05-01T16:05:06.527714",
     "exception": false,
     "start_time": "2024-05-01T16:05:06.506294",
     "status": "completed"
    },
    "tags": []
   },
   "outputs": [],
   "source": [
    "#loaders.train.show_batch(max_n=6, nrows=2)"
   ]
  },
  {
   "cell_type": "code",
   "execution_count": 7,
   "id": "0cfba6cd",
   "metadata": {
    "execution": {
     "iopub.execute_input": "2024-05-01T16:05:06.558763Z",
     "iopub.status.busy": "2024-05-01T16:05:06.557929Z",
     "iopub.status.idle": "2024-05-01T16:05:06.564326Z",
     "shell.execute_reply": "2024-05-01T16:05:06.563403Z"
    },
    "papermill": {
     "duration": 0.024031,
     "end_time": "2024-05-01T16:05:06.566840",
     "exception": false,
     "start_time": "2024-05-01T16:05:06.542809",
     "status": "completed"
    },
    "tags": []
   },
   "outputs": [],
   "source": [
    "#loaders.valid.show_batch(max_n=6, nrows=2)"
   ]
  },
  {
   "cell_type": "code",
   "execution_count": 8,
   "id": "9db4840d",
   "metadata": {
    "execution": {
     "iopub.execute_input": "2024-05-01T16:05:06.595065Z",
     "iopub.status.busy": "2024-05-01T16:05:06.594463Z",
     "iopub.status.idle": "2024-05-01T16:05:06.606291Z",
     "shell.execute_reply": "2024-05-01T16:05:06.605212Z"
    },
    "papermill": {
     "duration": 0.026902,
     "end_time": "2024-05-01T16:05:06.608481",
     "exception": false,
     "start_time": "2024-05-01T16:05:06.581579",
     "status": "completed"
    },
    "tags": []
   },
   "outputs": [],
   "source": [
    "distance = distances.CosineSimilarity()\n",
    "reducer = reducers.ThresholdReducer(low=0.1, high=0.9)\n",
    "loss_func = losses.TripletMarginLoss(margin=0.2, distance=distance, reducer=reducer)\n",
    "mining_func = miners.TripletMarginMiner(margin=0.2, distance=distance, type_of_triplets=\"semihard\")\n",
    "classification_loss = torch.nn.CrossEntropyLoss()\n",
    "\n",
    "def mined_loss(miner, loss_func):\n",
    "    def loss(embeddings, labels):\n",
    "        mined = miner(embeddings, labels)\n",
    "        return loss_func(embeddings, labels, mined)\n",
    "    return loss\n",
    "  \n",
    "my_loss = mined_loss(miner = mining_func, loss_func = loss_func)\n",
    "\n",
    "class CombinedLoss(nn.Module):\n",
    "    def __init__(self, embed_loss_func, class_loss_func, without_embed=False, without_ce=False):\n",
    "        super().__init__()\n",
    "        self.embed_loss_func = embed_loss_func\n",
    "        self.class_loss_func = class_loss_func\n",
    "        self.without_embed = without_embed\n",
    "        self.without_ce = without_ce\n",
    "    def forward(self, preds, target):\n",
    "        embeddings, classifications = preds\n",
    "        embed_loss = self.embed_loss_func(embeddings, target)\n",
    "        class_loss = self.class_loss_func(classifications, target)\n",
    "        if self.without_embed:\n",
    "            return class_loss\n",
    "        elif self.without_ce:\n",
    "            return embed_loss\n",
    "        else:\n",
    "            return embed_loss + class_loss\n",
    "\n",
    "combined_loss = CombinedLoss(my_loss, classification_loss)"
   ]
  },
  {
   "cell_type": "code",
   "execution_count": 9,
   "id": "7689d6f4",
   "metadata": {
    "execution": {
     "iopub.execute_input": "2024-05-01T16:05:06.631469Z",
     "iopub.status.busy": "2024-05-01T16:05:06.631142Z",
     "iopub.status.idle": "2024-05-01T16:05:06.641962Z",
     "shell.execute_reply": "2024-05-01T16:05:06.640915Z"
    },
    "papermill": {
     "duration": 0.025374,
     "end_time": "2024-05-01T16:05:06.644660",
     "exception": false,
     "start_time": "2024-05-01T16:05:06.619286",
     "status": "completed"
    },
    "tags": []
   },
   "outputs": [],
   "source": [
    "from sklearn.metrics import precision_score, recall_score, f1_score\n",
    "# def accuracy(inp, targ, axis=-1):\n",
    "#     \"Compute accuracy with `targ` when `pred` is bs * n_classes\"\n",
    "#     pred,targ = flatten_check(inp[-1].argmax(dim=axis), targ)\n",
    "#     return (pred == targ).float().mean()\n",
    "\n",
    "def precision(inp, targ):\n",
    "    pred = inp[-1].argmax(dim=-1).detach().cpu().numpy()\n",
    "    targ = targ.detach().cpu().numpy()\n",
    "    return precision_score(targ, pred, average='macro',zero_division=1)\n",
    "\n",
    "def recall(inp, targ):\n",
    "    pred = inp[-1].argmax(dim=-1).detach().cpu().numpy()\n",
    "    targ = targ.detach().cpu().numpy()\n",
    "    return recall_score(targ, pred, average='macro',zero_division=1)\n",
    "\n",
    "def f1score(inp, targ):\n",
    "    pred = inp[-1].argmax(dim=-1).detach().cpu().numpy()\n",
    "    targ = targ.detach().cpu().numpy()\n",
    "    return f1_score(targ, pred, average='macro')\n",
    "\n",
    "learn=Learner(loaders, \n",
    "              model,\n",
    "              loss_func=combined_loss,\n",
    "              splitter=siamese_splitter,\n",
    "              cbs=[ShowGraphCallback],\n",
    "              metrics=[accuracy,precision,recall,f1score])"
   ]
  },
  {
   "cell_type": "code",
   "execution_count": 10,
   "id": "21a94f5f",
   "metadata": {
    "execution": {
     "iopub.execute_input": "2024-05-01T16:05:06.676334Z",
     "iopub.status.busy": "2024-05-01T16:05:06.676027Z",
     "iopub.status.idle": "2024-05-01T16:16:08.551190Z",
     "shell.execute_reply": "2024-05-01T16:16:08.550015Z"
    },
    "papermill": {
     "duration": 661.893213,
     "end_time": "2024-05-01T16:16:08.553235",
     "exception": false,
     "start_time": "2024-05-01T16:05:06.660022",
     "status": "completed"
    },
    "tags": []
   },
   "outputs": [
    {
     "name": "stderr",
     "output_type": "stream",
     "text": [
      "/opt/conda/lib/python3.10/site-packages/torchvision/models/_utils.py:208: UserWarning: The parameter 'pretrained' is deprecated since 0.13 and may be removed in the future, please use 'weights' instead.\n",
      "  warnings.warn(\n",
      "/opt/conda/lib/python3.10/site-packages/torchvision/models/_utils.py:223: UserWarning: Arguments other than a weight enum or `None` for 'weights' are deprecated since 0.13 and may be removed in the future. The current behavior is equivalent to passing `weights=EfficientNet_V2_S_Weights.IMAGENET1K_V1`. You can also use `weights=EfficientNet_V2_S_Weights.DEFAULT` to get the most up-to-date weights.\n",
      "  warnings.warn(msg)\n"
     ]
    },
    {
     "data": {
      "text/html": [
       "\n",
       "<style>\n",
       "    /* Turns off some styling */\n",
       "    progress {\n",
       "        /* gets rid of default border in Firefox and Opera. */\n",
       "        border: none;\n",
       "        /* Needs to be in here for Safari polyfill so background images work as expected. */\n",
       "        background-size: auto;\n",
       "    }\n",
       "    progress:not([value]), progress:not([value])::-webkit-progress-bar {\n",
       "        background: repeating-linear-gradient(45deg, #7e7e7e, #7e7e7e 10px, #5c5c5c 10px, #5c5c5c 20px);\n",
       "    }\n",
       "    .progress-bar-interrupted, .progress-bar-interrupted::-webkit-progress-bar {\n",
       "        background: #F44336;\n",
       "    }\n",
       "</style>\n"
      ],
      "text/plain": [
       "<IPython.core.display.HTML object>"
      ]
     },
     "metadata": {},
     "output_type": "display_data"
    },
    {
     "data": {
      "text/html": [
       "<table border=\"1\" class=\"dataframe\">\n",
       "  <thead>\n",
       "    <tr style=\"text-align: left;\">\n",
       "      <th>epoch</th>\n",
       "      <th>train_loss</th>\n",
       "      <th>valid_loss</th>\n",
       "      <th>accuracy</th>\n",
       "      <th>time</th>\n",
       "    </tr>\n",
       "  </thead>\n",
       "  <tbody>\n",
       "    <tr>\n",
       "      <td>0</td>\n",
       "      <td>4.695405</td>\n",
       "      <td>3.064521</td>\n",
       "      <td>0.164865</td>\n",
       "      <td>00:13</td>\n",
       "    </tr>\n",
       "    <tr>\n",
       "      <td>1</td>\n",
       "      <td>3.752209</td>\n",
       "      <td>1.651565</td>\n",
       "      <td>0.616216</td>\n",
       "      <td>00:11</td>\n",
       "    </tr>\n",
       "    <tr>\n",
       "      <td>2</td>\n",
       "      <td>2.896266</td>\n",
       "      <td>0.905299</td>\n",
       "      <td>0.748649</td>\n",
       "      <td>00:11</td>\n",
       "    </tr>\n",
       "    <tr>\n",
       "      <td>3</td>\n",
       "      <td>2.203473</td>\n",
       "      <td>0.613654</td>\n",
       "      <td>0.818919</td>\n",
       "      <td>00:11</td>\n",
       "    </tr>\n",
       "    <tr>\n",
       "      <td>4</td>\n",
       "      <td>1.668626</td>\n",
       "      <td>0.513154</td>\n",
       "      <td>0.840541</td>\n",
       "      <td>00:11</td>\n",
       "    </tr>\n",
       "    <tr>\n",
       "      <td>5</td>\n",
       "      <td>1.288016</td>\n",
       "      <td>0.447547</td>\n",
       "      <td>0.856757</td>\n",
       "      <td>00:11</td>\n",
       "    </tr>\n",
       "    <tr>\n",
       "      <td>6</td>\n",
       "      <td>1.016071</td>\n",
       "      <td>0.424595</td>\n",
       "      <td>0.859459</td>\n",
       "      <td>00:11</td>\n",
       "    </tr>\n",
       "    <tr>\n",
       "      <td>7</td>\n",
       "      <td>0.819012</td>\n",
       "      <td>0.393060</td>\n",
       "      <td>0.886486</td>\n",
       "      <td>00:11</td>\n",
       "    </tr>\n",
       "    <tr>\n",
       "      <td>8</td>\n",
       "      <td>0.681051</td>\n",
       "      <td>0.386053</td>\n",
       "      <td>0.891892</td>\n",
       "      <td>00:11</td>\n",
       "    </tr>\n",
       "    <tr>\n",
       "      <td>9</td>\n",
       "      <td>0.572332</td>\n",
       "      <td>0.397536</td>\n",
       "      <td>0.889189</td>\n",
       "      <td>00:11</td>\n",
       "    </tr>\n",
       "    <tr>\n",
       "      <td>10</td>\n",
       "      <td>0.495419</td>\n",
       "      <td>0.396079</td>\n",
       "      <td>0.891892</td>\n",
       "      <td>00:11</td>\n",
       "    </tr>\n",
       "    <tr>\n",
       "      <td>11</td>\n",
       "      <td>0.433092</td>\n",
       "      <td>0.434530</td>\n",
       "      <td>0.878378</td>\n",
       "      <td>00:11</td>\n",
       "    </tr>\n",
       "    <tr>\n",
       "      <td>12</td>\n",
       "      <td>0.388358</td>\n",
       "      <td>0.419837</td>\n",
       "      <td>0.878378</td>\n",
       "      <td>00:11</td>\n",
       "    </tr>\n",
       "    <tr>\n",
       "      <td>13</td>\n",
       "      <td>0.364022</td>\n",
       "      <td>0.440319</td>\n",
       "      <td>0.872973</td>\n",
       "      <td>00:11</td>\n",
       "    </tr>\n",
       "    <tr>\n",
       "      <td>14</td>\n",
       "      <td>0.361883</td>\n",
       "      <td>0.364294</td>\n",
       "      <td>0.891892</td>\n",
       "      <td>00:11</td>\n",
       "    </tr>\n",
       "    <tr>\n",
       "      <td>15</td>\n",
       "      <td>0.324882</td>\n",
       "      <td>0.444466</td>\n",
       "      <td>0.872973</td>\n",
       "      <td>00:11</td>\n",
       "    </tr>\n",
       "    <tr>\n",
       "      <td>16</td>\n",
       "      <td>0.309234</td>\n",
       "      <td>0.439361</td>\n",
       "      <td>0.878378</td>\n",
       "      <td>00:11</td>\n",
       "    </tr>\n",
       "    <tr>\n",
       "      <td>17</td>\n",
       "      <td>0.319185</td>\n",
       "      <td>0.481392</td>\n",
       "      <td>0.862162</td>\n",
       "      <td>00:11</td>\n",
       "    </tr>\n",
       "    <tr>\n",
       "      <td>18</td>\n",
       "      <td>0.303488</td>\n",
       "      <td>0.426302</td>\n",
       "      <td>0.878378</td>\n",
       "      <td>00:11</td>\n",
       "    </tr>\n",
       "    <tr>\n",
       "      <td>19</td>\n",
       "      <td>0.292413</td>\n",
       "      <td>0.467434</td>\n",
       "      <td>0.878378</td>\n",
       "      <td>00:11</td>\n",
       "    </tr>\n",
       "  </tbody>\n",
       "</table>"
      ],
      "text/plain": [
       "<IPython.core.display.HTML object>"
      ]
     },
     "metadata": {},
     "output_type": "display_data"
    },
    {
     "data": {
      "text/html": [
       "\n",
       "<style>\n",
       "    /* Turns off some styling */\n",
       "    progress {\n",
       "        /* gets rid of default border in Firefox and Opera. */\n",
       "        border: none;\n",
       "        /* Needs to be in here for Safari polyfill so background images work as expected. */\n",
       "        background-size: auto;\n",
       "    }\n",
       "    progress:not([value]), progress:not([value])::-webkit-progress-bar {\n",
       "        background: repeating-linear-gradient(45deg, #7e7e7e, #7e7e7e 10px, #5c5c5c 10px, #5c5c5c 20px);\n",
       "    }\n",
       "    .progress-bar-interrupted, .progress-bar-interrupted::-webkit-progress-bar {\n",
       "        background: #F44336;\n",
       "    }\n",
       "</style>\n"
      ],
      "text/plain": [
       "<IPython.core.display.HTML object>"
      ]
     },
     "metadata": {},
     "output_type": "display_data"
    },
    {
     "data": {
      "text/html": [
       "<table border=\"1\" class=\"dataframe\">\n",
       "  <thead>\n",
       "    <tr style=\"text-align: left;\">\n",
       "      <th>epoch</th>\n",
       "      <th>train_loss</th>\n",
       "      <th>valid_loss</th>\n",
       "      <th>accuracy</th>\n",
       "      <th>time</th>\n",
       "    </tr>\n",
       "  </thead>\n",
       "  <tbody>\n",
       "    <tr>\n",
       "      <td>0</td>\n",
       "      <td>0.202499</td>\n",
       "      <td>0.390364</td>\n",
       "      <td>0.894595</td>\n",
       "      <td>00:14</td>\n",
       "    </tr>\n",
       "    <tr>\n",
       "      <td>1</td>\n",
       "      <td>0.176158</td>\n",
       "      <td>0.366930</td>\n",
       "      <td>0.900000</td>\n",
       "      <td>00:14</td>\n",
       "    </tr>\n",
       "    <tr>\n",
       "      <td>2</td>\n",
       "      <td>0.172813</td>\n",
       "      <td>0.367940</td>\n",
       "      <td>0.900000</td>\n",
       "      <td>00:14</td>\n",
       "    </tr>\n",
       "    <tr>\n",
       "      <td>3</td>\n",
       "      <td>0.165748</td>\n",
       "      <td>0.367040</td>\n",
       "      <td>0.902703</td>\n",
       "      <td>00:14</td>\n",
       "    </tr>\n",
       "    <tr>\n",
       "      <td>4</td>\n",
       "      <td>0.162313</td>\n",
       "      <td>0.389183</td>\n",
       "      <td>0.891892</td>\n",
       "      <td>00:14</td>\n",
       "    </tr>\n",
       "    <tr>\n",
       "      <td>5</td>\n",
       "      <td>0.158450</td>\n",
       "      <td>0.395217</td>\n",
       "      <td>0.897297</td>\n",
       "      <td>00:14</td>\n",
       "    </tr>\n",
       "    <tr>\n",
       "      <td>6</td>\n",
       "      <td>0.154002</td>\n",
       "      <td>0.368804</td>\n",
       "      <td>0.900000</td>\n",
       "      <td>00:14</td>\n",
       "    </tr>\n",
       "    <tr>\n",
       "      <td>7</td>\n",
       "      <td>0.140134</td>\n",
       "      <td>0.424894</td>\n",
       "      <td>0.886486</td>\n",
       "      <td>00:14</td>\n",
       "    </tr>\n",
       "    <tr>\n",
       "      <td>8</td>\n",
       "      <td>0.134015</td>\n",
       "      <td>0.340975</td>\n",
       "      <td>0.908108</td>\n",
       "      <td>00:14</td>\n",
       "    </tr>\n",
       "    <tr>\n",
       "      <td>9</td>\n",
       "      <td>0.127052</td>\n",
       "      <td>0.348890</td>\n",
       "      <td>0.910811</td>\n",
       "      <td>00:14</td>\n",
       "    </tr>\n",
       "    <tr>\n",
       "      <td>10</td>\n",
       "      <td>0.128080</td>\n",
       "      <td>0.356929</td>\n",
       "      <td>0.913514</td>\n",
       "      <td>00:14</td>\n",
       "    </tr>\n",
       "    <tr>\n",
       "      <td>11</td>\n",
       "      <td>0.125545</td>\n",
       "      <td>0.384988</td>\n",
       "      <td>0.902703</td>\n",
       "      <td>00:14</td>\n",
       "    </tr>\n",
       "    <tr>\n",
       "      <td>12</td>\n",
       "      <td>0.112961</td>\n",
       "      <td>0.406935</td>\n",
       "      <td>0.910811</td>\n",
       "      <td>00:14</td>\n",
       "    </tr>\n",
       "    <tr>\n",
       "      <td>13</td>\n",
       "      <td>0.105710</td>\n",
       "      <td>0.401977</td>\n",
       "      <td>0.910811</td>\n",
       "      <td>00:14</td>\n",
       "    </tr>\n",
       "    <tr>\n",
       "      <td>14</td>\n",
       "      <td>0.112212</td>\n",
       "      <td>0.364968</td>\n",
       "      <td>0.905405</td>\n",
       "      <td>00:14</td>\n",
       "    </tr>\n",
       "    <tr>\n",
       "      <td>15</td>\n",
       "      <td>0.096646</td>\n",
       "      <td>0.381776</td>\n",
       "      <td>0.897297</td>\n",
       "      <td>00:14</td>\n",
       "    </tr>\n",
       "    <tr>\n",
       "      <td>16</td>\n",
       "      <td>0.088345</td>\n",
       "      <td>0.392164</td>\n",
       "      <td>0.910811</td>\n",
       "      <td>00:14</td>\n",
       "    </tr>\n",
       "    <tr>\n",
       "      <td>17</td>\n",
       "      <td>0.080255</td>\n",
       "      <td>0.387587</td>\n",
       "      <td>0.894595</td>\n",
       "      <td>00:14</td>\n",
       "    </tr>\n",
       "    <tr>\n",
       "      <td>18</td>\n",
       "      <td>0.071679</td>\n",
       "      <td>0.380893</td>\n",
       "      <td>0.905405</td>\n",
       "      <td>00:14</td>\n",
       "    </tr>\n",
       "    <tr>\n",
       "      <td>19</td>\n",
       "      <td>0.065813</td>\n",
       "      <td>0.378691</td>\n",
       "      <td>0.905405</td>\n",
       "      <td>00:14</td>\n",
       "    </tr>\n",
       "    <tr>\n",
       "      <td>20</td>\n",
       "      <td>0.066541</td>\n",
       "      <td>0.380376</td>\n",
       "      <td>0.910811</td>\n",
       "      <td>00:14</td>\n",
       "    </tr>\n",
       "    <tr>\n",
       "      <td>21</td>\n",
       "      <td>0.062055</td>\n",
       "      <td>0.367936</td>\n",
       "      <td>0.916216</td>\n",
       "      <td>00:14</td>\n",
       "    </tr>\n",
       "    <tr>\n",
       "      <td>22</td>\n",
       "      <td>0.052638</td>\n",
       "      <td>0.388122</td>\n",
       "      <td>0.908108</td>\n",
       "      <td>00:14</td>\n",
       "    </tr>\n",
       "    <tr>\n",
       "      <td>23</td>\n",
       "      <td>0.054465</td>\n",
       "      <td>0.386099</td>\n",
       "      <td>0.908108</td>\n",
       "      <td>00:14</td>\n",
       "    </tr>\n",
       "    <tr>\n",
       "      <td>24</td>\n",
       "      <td>0.047892</td>\n",
       "      <td>0.373747</td>\n",
       "      <td>0.910811</td>\n",
       "      <td>00:14</td>\n",
       "    </tr>\n",
       "    <tr>\n",
       "      <td>25</td>\n",
       "      <td>0.046531</td>\n",
       "      <td>0.371008</td>\n",
       "      <td>0.908108</td>\n",
       "      <td>00:14</td>\n",
       "    </tr>\n",
       "    <tr>\n",
       "      <td>26</td>\n",
       "      <td>0.050539</td>\n",
       "      <td>0.373736</td>\n",
       "      <td>0.908108</td>\n",
       "      <td>00:14</td>\n",
       "    </tr>\n",
       "    <tr>\n",
       "      <td>27</td>\n",
       "      <td>0.047947</td>\n",
       "      <td>0.374104</td>\n",
       "      <td>0.905405</td>\n",
       "      <td>00:14</td>\n",
       "    </tr>\n",
       "    <tr>\n",
       "      <td>28</td>\n",
       "      <td>0.044789</td>\n",
       "      <td>0.368348</td>\n",
       "      <td>0.910811</td>\n",
       "      <td>00:14</td>\n",
       "    </tr>\n",
       "    <tr>\n",
       "      <td>29</td>\n",
       "      <td>0.049090</td>\n",
       "      <td>0.363737</td>\n",
       "      <td>0.908108</td>\n",
       "      <td>00:14</td>\n",
       "    </tr>\n",
       "  </tbody>\n",
       "</table>"
      ],
      "text/plain": [
       "<IPython.core.display.HTML object>"
      ]
     },
     "metadata": {},
     "output_type": "display_data"
    }
   ],
   "source": [
    "learn=vision_learner(loaders, efficientnet_v2_s, metrics=[accuracy])\n",
    "learn.fine_tune(30,freeze_epochs=20)"
   ]
  },
  {
   "cell_type": "code",
   "execution_count": 11,
   "id": "fff94ac2",
   "metadata": {
    "execution": {
     "iopub.execute_input": "2024-05-01T16:16:08.577376Z",
     "iopub.status.busy": "2024-05-01T16:16:08.577049Z",
     "iopub.status.idle": "2024-05-01T16:16:10.566460Z",
     "shell.execute_reply": "2024-05-01T16:16:10.565181Z"
    },
    "papermill": {
     "duration": 2.004101,
     "end_time": "2024-05-01T16:16:10.568802",
     "exception": false,
     "start_time": "2024-05-01T16:16:08.564701",
     "status": "completed"
    },
    "tags": []
   },
   "outputs": [],
   "source": [
    "hooks = Hooks(model.module.encoder if DP else learn.model[0][-1], lambda m,i,o: o)\n",
    "ftrs = tensor([]).cuda()\n",
    "for i in learn.dls.valid:\n",
    "    learn.model(i[0])\n",
    "    hooks_output = nn.Flatten()(hooks.stored[-1])\n",
    "    hooks_output = hooks_output.to(ftrs.device)  # move hooks_output to the same device as ftrs\n",
    "    ftrs = torch.cat((ftrs, hooks_output))"
   ]
  },
  {
   "cell_type": "code",
   "execution_count": 12,
   "id": "9306695a",
   "metadata": {
    "execution": {
     "iopub.execute_input": "2024-05-01T16:16:10.592025Z",
     "iopub.status.busy": "2024-05-01T16:16:10.591697Z",
     "iopub.status.idle": "2024-05-01T16:16:15.038838Z",
     "shell.execute_reply": "2024-05-01T16:16:15.037881Z"
    },
    "papermill": {
     "duration": 4.461208,
     "end_time": "2024-05-01T16:16:15.040954",
     "exception": false,
     "start_time": "2024-05-01T16:16:10.579746",
     "status": "completed"
    },
    "tags": []
   },
   "outputs": [
    {
     "data": {
      "image/png": "[encoded data removed]",
      "text/plain": [
       "<Figure size 640x480 with 1 Axes>"
      ]
     },
     "metadata": {},
     "output_type": "display_data"
    }
   ],
   "source": [
    "from sklearn.manifold import TSNE\n",
    "tsne = TSNE(n_components=2)\n",
    "output = tsne.fit_transform(ftrs.cpu().detach().numpy())\n",
    "for i in range(len(output)):\n",
    "    plt.plot(output[i, 0], output[i, 1], '.')"
   ]
  },
  {
   "cell_type": "code",
   "execution_count": 13,
   "id": "747d03e5",
   "metadata": {
    "execution": {
     "iopub.execute_input": "2024-05-01T16:16:15.064573Z",
     "iopub.status.busy": "2024-05-01T16:16:15.064006Z",
     "iopub.status.idle": "2024-05-01T16:16:51.478045Z",
     "shell.execute_reply": "2024-05-01T16:16:51.477073Z"
    },
    "papermill": {
     "duration": 36.439554,
     "end_time": "2024-05-01T16:16:51.491600",
     "exception": false,
     "start_time": "2024-05-01T16:16:15.052046",
     "status": "completed"
    },
    "tags": []
   },
   "outputs": [
    {
     "name": "stderr",
     "output_type": "stream",
     "text": [
      "2024-05-01 16:16:31.760233: E external/local_xla/xla/stream_executor/cuda/cuda_dnn.cc:9261] Unable to register cuDNN factory: Attempting to register factory for plugin cuDNN when one has already been registered\n",
      "2024-05-01 16:16:31.760329: E external/local_xla/xla/stream_executor/cuda/cuda_fft.cc:607] Unable to register cuFFT factory: Attempting to register factory for plugin cuFFT when one has already been registered\n",
      "2024-05-01 16:16:31.896682: E external/local_xla/xla/stream_executor/cuda/cuda_blas.cc:1515] Unable to register cuBLAS factory: Attempting to register factory for plugin cuBLAS when one has already been registered\n"
     ]
    },
    {
     "data": {
      "image/png": "[encoded data removed]",
      "text/plain": [
       "<Figure size 640x480 with 1 Axes>"
      ]
     },
     "metadata": {},
     "output_type": "display_data"
    }
   ],
   "source": [
    "from umap import UMAP\n",
    "umap = UMAP(n_components=2)\n",
    "output = umap.fit_transform(ftrs.cpu().detach().numpy())\n",
    "for i in range(len(output)):\n",
    "    plt.plot(output[i, 0], output[i, 1], '.')"
   ]
  },
  {
   "cell_type": "code",
   "execution_count": null,
   "id": "46f4d258",
   "metadata": {
    "papermill": {
     "duration": 0.011298,
     "end_time": "2024-05-01T16:16:51.514504",
     "exception": false,
     "start_time": "2024-05-01T16:16:51.503206",
     "status": "completed"
    },
    "tags": []
   },
   "outputs": [],
   "source": []
  }
 ],
 "metadata": {
  "kaggle": {
   "accelerator": "gpu",
   "dataSources": [
    {
     "datasetId": 112480,
     "sourceId": 268736,
     "sourceType": "datasetVersion"
    },
    {
     "datasetId": 4085269,
     "sourceId": 7089718,
     "sourceType": "datasetVersion"
    },
    {
     "datasetId": 4840012,
     "sourceId": 8176477,
     "sourceType": "datasetVersion"
    }
   ],
   "dockerImageVersionId": 30699,
   "isGpuEnabled": true,
   "isInternetEnabled": true,
   "language": "python",
   "sourceType": "notebook"
  },
  "kernelspec": {
   "display_name": "Python 3",
   "language": "python",
   "name": "python3"
  },
  "language_info": {
   "codemirror_mode": {
    "name": "ipython",
    "version": 3
   },
   "file_extension": ".py",
   "mimetype": "text/x-python",
   "name": "python",
   "nbconvert_exporter": "python",
   "pygments_lexer": "ipython3",
   "version": "3.10.13"
  },
  "papermill": {
   "default_parameters": {},
   "duration": 769.541711,
   "end_time": "2024-05-01T16:16:55.031128",
   "environment_variables": {},
   "exception": null,
   "input_path": "__notebook__.ipynb",
   "output_path": "__notebook__.ipynb",
   "parameters": {},
   "start_time": "2024-05-01T16:04:05.489417",
   "version": "2.5.0"
  }
 },
 "nbformat": 4,
 "nbformat_minor": 5
}
