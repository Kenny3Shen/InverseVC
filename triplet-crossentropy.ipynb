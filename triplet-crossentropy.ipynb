{
 "cells": [
  {
   "cell_type": "code",
   "execution_count": 1,
   "id": "8d1b1100",
   "metadata": {
    "_cell_guid": "9ce112f4-e8be-4368-b6f5-2cd3b38d8e1e",
    "_uuid": "0254fc90-df78-4d2c-9c0d-8f1c79171042",
    "collapsed": false,
    "execution": {
     "iopub.execute_input": "2024-05-02T06:17:32.053447Z",
     "iopub.status.busy": "2024-05-02T06:17:32.053173Z",
     "iopub.status.idle": "2024-05-02T06:17:59.429885Z",
     "shell.execute_reply": "2024-05-02T06:17:59.428935Z"
    },
    "jupyter": {
     "outputs_hidden": false
    },
    "papermill": {
     "duration": 27.384318,
     "end_time": "2024-05-02T06:17:59.432144",
     "exception": false,
     "start_time": "2024-05-02T06:17:32.047826",
     "status": "completed"
    },
    "tags": []
   },
   "outputs": [
    {
     "name": "stdout",
     "output_type": "stream",
     "text": [
      "Collecting faiss-gpu\r\n",
      "  Downloading faiss_gpu-1.7.2-cp310-cp310-manylinux_2_17_x86_64.manylinux2014_x86_64.whl.metadata (1.4 kB)\r\n",
      "Collecting pytorch-metric-learning\r\n",
      "  Downloading pytorch_metric_learning-2.5.0-py3-none-any.whl.metadata (17 kB)\r\n",
      "Requirement already satisfied: numpy in /opt/conda/lib/python3.10/site-packages (from pytorch-metric-learning) (1.26.4)\r\n",
      "Requirement already satisfied: scikit-learn in /opt/conda/lib/python3.10/site-packages (from pytorch-metric-learning) (1.2.2)\r\n",
      "Requirement already satisfied: torch>=1.6.0 in /opt/conda/lib/python3.10/site-packages (from pytorch-metric-learning) (2.1.2)\r\n",
      "Requirement already satisfied: tqdm in /opt/conda/lib/python3.10/site-packages (from pytorch-metric-learning) (4.66.1)\r\n",
      "Requirement already satisfied: filelock in /opt/conda/lib/python3.10/site-packages (from torch>=1.6.0->pytorch-metric-learning) (3.13.1)\r\n",
      "Requirement already satisfied: typing-extensions in /opt/conda/lib/python3.10/site-packages (from torch>=1.6.0->pytorch-metric-learning) (4.9.0)\r\n",
      "Requirement already satisfied: sympy in /opt/conda/lib/python3.10/site-packages (from torch>=1.6.0->pytorch-metric-learning) (1.12)\r\n",
      "Requirement already satisfied: networkx in /opt/conda/lib/python3.10/site-packages (from torch>=1.6.0->pytorch-metric-learning) (3.2.1)\r\n",
      "Requirement already satisfied: jinja2 in /opt/conda/lib/python3.10/site-packages (from torch>=1.6.0->pytorch-metric-learning) (3.1.2)\r\n",
      "Requirement already satisfied: fsspec in /opt/conda/lib/python3.10/site-packages (from torch>=1.6.0->pytorch-metric-learning) (2024.2.0)\r\n",
      "Requirement already satisfied: scipy>=1.3.2 in /opt/conda/lib/python3.10/site-packages (from scikit-learn->pytorch-metric-learning) (1.11.4)\r\n",
      "Requirement already satisfied: joblib>=1.1.1 in /opt/conda/lib/python3.10/site-packages (from scikit-learn->pytorch-metric-learning) (1.4.0)\r\n",
      "Requirement already satisfied: threadpoolctl>=2.0.0 in /opt/conda/lib/python3.10/site-packages (from scikit-learn->pytorch-metric-learning) (3.2.0)\r\n",
      "Requirement already satisfied: MarkupSafe>=2.0 in /opt/conda/lib/python3.10/site-packages (from jinja2->torch>=1.6.0->pytorch-metric-learning) (2.1.3)\r\n",
      "Requirement already satisfied: mpmath>=0.19 in /opt/conda/lib/python3.10/site-packages (from sympy->torch>=1.6.0->pytorch-metric-learning) (1.3.0)\r\n",
      "Downloading faiss_gpu-1.7.2-cp310-cp310-manylinux_2_17_x86_64.manylinux2014_x86_64.whl (85.5 MB)\r\n",
      "\u001b[2K   \u001b[90m━━━━━━━━━━━━━━━━━━━━━━━━━━━━━━━━━━━━━━━━\u001b[0m \u001b[32m85.5/85.5 MB\u001b[0m \u001b[31m20.8 MB/s\u001b[0m eta \u001b[36m0:00:00\u001b[0m\r\n",
      "\u001b[?25hDownloading pytorch_metric_learning-2.5.0-py3-none-any.whl (119 kB)\r\n",
      "\u001b[2K   \u001b[90m━━━━━━━━━━━━━━━━━━━━━━━━━━━━━━━━━━━━━━━━\u001b[0m \u001b[32m119.1/119.1 kB\u001b[0m \u001b[31m7.4 MB/s\u001b[0m eta \u001b[36m0:00:00\u001b[0m\r\n",
      "\u001b[?25hInstalling collected packages: faiss-gpu, pytorch-metric-learning\r\n",
      "Successfully installed faiss-gpu-1.7.2 pytorch-metric-learning-2.5.0\r\n"
     ]
    }
   ],
   "source": [
    "!pip install faiss-gpu pytorch-metric-learning\n",
    "from fastai.vision.all import *\n",
    "import logging\n",
    "import pytorch_metric_learning\n",
    "import pytorch_metric_learning.utils.logging_presets as logging_presets\n",
    "from pytorch_metric_learning import losses, miners, samplers, testers, trainers\n",
    "from pytorch_metric_learning.utils.accuracy_calculator import AccuracyCalculator\n",
    "DP = True if torch.cuda.device_count() > 1 else False"
   ]
  },
  {
   "cell_type": "code",
   "execution_count": 2,
   "id": "2ed26721",
   "metadata": {
    "execution": {
     "iopub.execute_input": "2024-05-02T06:17:59.447960Z",
     "iopub.status.busy": "2024-05-02T06:17:59.447676Z",
     "iopub.status.idle": "2024-05-02T06:18:00.765319Z",
     "shell.execute_reply": "2024-05-02T06:18:00.764566Z"
    },
    "papermill": {
     "duration": 1.328245,
     "end_time": "2024-05-02T06:18:00.767832",
     "exception": false,
     "start_time": "2024-05-02T06:17:59.439587",
     "status": "completed"
    },
    "tags": []
   },
   "outputs": [
    {
     "name": "stderr",
     "output_type": "stream",
     "text": [
      "Downloading: \"https://download.pytorch.org/models/efficientnet_v2_s-dd5fe13b.pth\" to /root/.cache/torch/hub/checkpoints/efficientnet_v2_s-dd5fe13b.pth\n",
      "100%|██████████| 82.7M/82.7M [00:00<00:00, 150MB/s]\n"
     ]
    }
   ],
   "source": [
    "class CustomModel(nn.Module):\n",
    "    def __init__(self, encoder, head):\n",
    "        super().__init__()\n",
    "        self.encoder = encoder\n",
    "        self.head = head\n",
    "\n",
    "    def forward(self, x):\n",
    "        x = self.encoder(x)\n",
    "        embeddings = self.head.embedding(x) \n",
    "        classifications = self.head.classifier(embeddings)  \n",
    "        return embeddings, classifications\n",
    "\n",
    "backbone=efficientnet_v2_s(weights=\"DEFAULT\")\n",
    "encoder = create_body(backbone)\n",
    "embedding = nn.Sequential(\n",
    "    AdaptiveConcatPool2d(),\n",
    "    Flatten(),\n",
    "    LinBnDrop((backbone.classifier[-1].in_features) * 2, 1024, bn=True, p=0.25, act=nn.ReLU(inplace=True)),\n",
    "    LinBnDrop(1024, 512, bn=True, p=0.25, act=nn.ReLU(inplace=True)),\n",
    "    LinBnDrop(512, 256, bn=True, p=0.5),\n",
    ")\n",
    "\n",
    "# 创建分类器\n",
    "classifier = LinBnDrop(256, 37, bn=True, p=0.5, act=None)\n",
    "# 创建模型\n",
    "head = nn.Sequential()\n",
    "# 添加 embedding 层\n",
    "head.add_module('embedding', embedding)\n",
    "\n",
    "# 添加 SiLU 激活函数\n",
    "# head.add_module('silu', nn.SiLU(inplace=True))\n",
    "# 添加 classifier 层\n",
    "head.add_module('classifier', classifier)\n",
    "apply_init(head, nn.init.kaiming_normal_)\n",
    "\n",
    "model=torch.nn.DataParallel(CustomModel(encoder, head)) if DP else CustomModel(encoder, head)\n",
    "def siamese_splitter(model):\n",
    "    return [params(model.module.encoder), params(model.module.head)] if DP else [params(model.encoder), params(model.head)]"
   ]
  },
  {
   "cell_type": "code",
   "execution_count": 3,
   "id": "05329c1b",
   "metadata": {
    "execution": {
     "iopub.execute_input": "2024-05-02T06:18:00.785169Z",
     "iopub.status.busy": "2024-05-02T06:18:00.784876Z",
     "iopub.status.idle": "2024-05-02T06:18:00.791873Z",
     "shell.execute_reply": "2024-05-02T06:18:00.791097Z"
    },
    "papermill": {
     "duration": 0.017715,
     "end_time": "2024-05-02T06:18:00.793840",
     "exception": false,
     "start_time": "2024-05-02T06:18:00.776125",
     "status": "completed"
    },
    "tags": []
   },
   "outputs": [
    {
     "data": {
      "text/plain": [
       "Sequential(\n",
       "  (embedding): Sequential(\n",
       "    (0): AdaptiveConcatPool2d(\n",
       "      (ap): AdaptiveAvgPool2d(output_size=1)\n",
       "      (mp): AdaptiveMaxPool2d(output_size=1)\n",
       "    )\n",
       "    (1): fastai.layers.Flatten(full=False)\n",
       "    (2): LinBnDrop(\n",
       "      (0): BatchNorm1d(2560, eps=1e-05, momentum=0.1, affine=True, track_running_stats=True)\n",
       "      (1): Dropout(p=0.25, inplace=False)\n",
       "      (2): Linear(in_features=2560, out_features=1024, bias=False)\n",
       "      (3): ReLU(inplace=True)\n",
       "    )\n",
       "    (3): LinBnDrop(\n",
       "      (0): BatchNorm1d(1024, eps=1e-05, momentum=0.1, affine=True, track_running_stats=True)\n",
       "      (1): Dropout(p=0.25, inplace=False)\n",
       "      (2): Linear(in_features=1024, out_features=512, bias=False)\n",
       "      (3): ReLU(inplace=True)\n",
       "    )\n",
       "    (4): LinBnDrop(\n",
       "      (0): BatchNorm1d(512, eps=1e-05, momentum=0.1, affine=True, track_running_stats=True)\n",
       "      (1): Dropout(p=0.5, inplace=False)\n",
       "      (2): Linear(in_features=512, out_features=256, bias=False)\n",
       "    )\n",
       "  )\n",
       "  (classifier): LinBnDrop(\n",
       "    (0): BatchNorm1d(256, eps=1e-05, momentum=0.1, affine=True, track_running_stats=True)\n",
       "    (1): Dropout(p=0.5, inplace=False)\n",
       "    (2): Linear(in_features=256, out_features=37, bias=False)\n",
       "  )\n",
       ")"
      ]
     },
     "execution_count": 3,
     "metadata": {},
     "output_type": "execute_result"
    }
   ],
   "source": [
    "head"
   ]
  },
  {
   "cell_type": "code",
   "execution_count": 4,
   "id": "9f1fd6d2",
   "metadata": {
    "execution": {
     "iopub.execute_input": "2024-05-02T06:18:00.811038Z",
     "iopub.status.busy": "2024-05-02T06:18:00.810788Z",
     "iopub.status.idle": "2024-05-02T06:18:00.814295Z",
     "shell.execute_reply": "2024-05-02T06:18:00.813568Z"
    },
    "papermill": {
     "duration": 0.014223,
     "end_time": "2024-05-02T06:18:00.816198",
     "exception": false,
     "start_time": "2024-05-02T06:18:00.801975",
     "status": "completed"
    },
    "tags": []
   },
   "outputs": [],
   "source": [
    "#model"
   ]
  },
  {
   "cell_type": "code",
   "execution_count": 5,
   "id": "4f308aa2",
   "metadata": {
    "execution": {
     "iopub.execute_input": "2024-05-02T06:18:00.833506Z",
     "iopub.status.busy": "2024-05-02T06:18:00.833059Z",
     "iopub.status.idle": "2024-05-02T06:18:47.554436Z",
     "shell.execute_reply": "2024-05-02T06:18:47.553533Z"
    },
    "papermill": {
     "duration": 46.7329,
     "end_time": "2024-05-02T06:18:47.557105",
     "exception": false,
     "start_time": "2024-05-02T06:18:00.824205",
     "status": "completed"
    },
    "tags": []
   },
   "outputs": [],
   "source": [
    "from pytorch_metric_learning import distances, losses, miners, reducers, testers,regularizers\n",
    "from torchvision import datasets, transforms\n",
    "from pytorch_metric_learning.utils.accuracy_calculator import AccuracyCalculator\n",
    "from collections import defaultdict\n",
    "import random\n",
    "\n",
    "def get_image_files_sample(path):\n",
    "    files = get_image_files(path)\n",
    "    label_pattern = r'(.+)_\\d+.jpg$'\n",
    "    label_func = using_attr(RegexLabeller(label_pattern), 'name')\n",
    "    label_to_files = defaultdict(list)\n",
    "    for file in files:\n",
    "        label = label_func(file)\n",
    "        label_to_files[label].append(file)\n",
    "    sampled_files = []\n",
    "    for files in label_to_files.values():\n",
    "        sampled_files.extend(random.sample(files, min(50, len(files))))\n",
    "    return sampled_files\n",
    "\n",
    "pets = DataBlock(blocks=(ImageBlock, CategoryBlock), \n",
    "                 get_items=get_image_files_sample, \n",
    "                 splitter=RandomSplitter(seed=42),\n",
    "                 get_y=using_attr(RegexLabeller(r'(.+)_\\d+.jpg$'), 'name'),\n",
    "                 item_tfms=Resize(460),\n",
    "                 batch_tfms=aug_transforms(size=224))\n",
    "loaders = pets.dataloaders(\"/kaggle/input/the-oxfordiiit-pet-dataset/images\")"
   ]
  },
  {
   "cell_type": "code",
   "execution_count": 6,
   "id": "90ad3a04",
   "metadata": {
    "execution": {
     "iopub.execute_input": "2024-05-02T06:18:47.574938Z",
     "iopub.status.busy": "2024-05-02T06:18:47.574642Z",
     "iopub.status.idle": "2024-05-02T06:18:47.578660Z",
     "shell.execute_reply": "2024-05-02T06:18:47.577706Z"
    },
    "papermill": {
     "duration": 0.015,
     "end_time": "2024-05-02T06:18:47.580467",
     "exception": false,
     "start_time": "2024-05-02T06:18:47.565467",
     "status": "completed"
    },
    "tags": []
   },
   "outputs": [],
   "source": [
    "#len(loaders.vocab)"
   ]
  },
  {
   "cell_type": "code",
   "execution_count": 7,
   "id": "bf5fdbd1",
   "metadata": {
    "execution": {
     "iopub.execute_input": "2024-05-02T06:18:47.597719Z",
     "iopub.status.busy": "2024-05-02T06:18:47.597442Z",
     "iopub.status.idle": "2024-05-02T06:18:47.601164Z",
     "shell.execute_reply": "2024-05-02T06:18:47.600307Z"
    },
    "papermill": {
     "duration": 0.014434,
     "end_time": "2024-05-02T06:18:47.603022",
     "exception": false,
     "start_time": "2024-05-02T06:18:47.588588",
     "status": "completed"
    },
    "tags": []
   },
   "outputs": [],
   "source": [
    "#loaders.train.show_batch(max_n=6, nrows=2)"
   ]
  },
  {
   "cell_type": "code",
   "execution_count": 8,
   "id": "d4ca7dc4",
   "metadata": {
    "execution": {
     "iopub.execute_input": "2024-05-02T06:18:47.620571Z",
     "iopub.status.busy": "2024-05-02T06:18:47.620276Z",
     "iopub.status.idle": "2024-05-02T06:18:47.624016Z",
     "shell.execute_reply": "2024-05-02T06:18:47.623154Z"
    },
    "papermill": {
     "duration": 0.014417,
     "end_time": "2024-05-02T06:18:47.625842",
     "exception": false,
     "start_time": "2024-05-02T06:18:47.611425",
     "status": "completed"
    },
    "tags": []
   },
   "outputs": [],
   "source": [
    "#loaders.valid.show_batch(max_n=6, nrows=2)"
   ]
  },
  {
   "cell_type": "code",
   "execution_count": 9,
   "id": "7575733e",
   "metadata": {
    "execution": {
     "iopub.execute_input": "2024-05-02T06:18:47.643195Z",
     "iopub.status.busy": "2024-05-02T06:18:47.642921Z",
     "iopub.status.idle": "2024-05-02T06:18:47.653688Z",
     "shell.execute_reply": "2024-05-02T06:18:47.652822Z"
    },
    "papermill": {
     "duration": 0.021523,
     "end_time": "2024-05-02T06:18:47.655482",
     "exception": false,
     "start_time": "2024-05-02T06:18:47.633959",
     "status": "completed"
    },
    "tags": []
   },
   "outputs": [],
   "source": [
    "distance = distances.CosineSimilarity()\n",
    "reducer = reducers.ThresholdReducer(low=0)\n",
    "loss_func = losses.TripletMarginLoss(margin=0.2, distance=distance, reducer=reducer)\n",
    "mining_func = miners.TripletMarginMiner(margin=0.2, distance=distance, type_of_triplets=\"semihard\")\n",
    "classification_loss = torch.nn.CrossEntropyLoss()\n",
    "\n",
    "def mined_loss(miner, loss_func):\n",
    "    def loss(embeddings, labels):\n",
    "        mined = miner(embeddings, labels)\n",
    "        return loss_func(embeddings, labels, mined)\n",
    "    return loss\n",
    "  \n",
    "my_loss = mined_loss(miner = mining_func, loss_func = loss_func)\n",
    "\n",
    "class CombinedLoss(nn.Module):\n",
    "    def __init__(self, embed_loss_func, class_loss_func, without_embed=False, without_ce=False):\n",
    "        super().__init__()\n",
    "        self.embed_loss_func = embed_loss_func\n",
    "        self.class_loss_func = class_loss_func\n",
    "        self.without_embed = without_embed\n",
    "        self.without_ce = without_ce\n",
    "    def forward(self, preds, target):\n",
    "        embeddings, classifications = preds\n",
    "        embed_loss = self.embed_loss_func(embeddings, target)\n",
    "        class_loss = self.class_loss_func(classifications, target)\n",
    "        if self.without_embed:\n",
    "            return class_loss\n",
    "        elif self.without_ce:\n",
    "            return embed_loss\n",
    "        else:\n",
    "            return embed_loss + class_loss\n",
    "\n",
    "combined_loss = CombinedLoss(my_loss, classification_loss)"
   ]
  },
  {
   "cell_type": "code",
   "execution_count": 10,
   "id": "ae139ca6",
   "metadata": {
    "execution": {
     "iopub.execute_input": "2024-05-02T06:18:47.672969Z",
     "iopub.status.busy": "2024-05-02T06:18:47.672687Z",
     "iopub.status.idle": "2024-05-02T06:18:47.682383Z",
     "shell.execute_reply": "2024-05-02T06:18:47.681570Z"
    },
    "papermill": {
     "duration": 0.020527,
     "end_time": "2024-05-02T06:18:47.684274",
     "exception": false,
     "start_time": "2024-05-02T06:18:47.663747",
     "status": "completed"
    },
    "tags": []
   },
   "outputs": [],
   "source": [
    "from sklearn.metrics import precision_score, recall_score, f1_score\n",
    "def accuracy(inp, targ, axis=-1):\n",
    "    \"Compute accuracy with `targ` when `pred` is bs * n_classes\"\n",
    "    pred,targ = flatten_check(inp[-1].argmax(dim=axis), targ)\n",
    "    return (pred == targ).float().mean()\n",
    "\n",
    "def precision(inp, targ):\n",
    "    pred = inp[-1].argmax(dim=-1).detach().cpu().numpy()\n",
    "    targ = targ.detach().cpu().numpy()\n",
    "    return precision_score(targ, pred, average='macro',zero_division=1)\n",
    "\n",
    "def recall(inp, targ):\n",
    "    pred = inp[-1].argmax(dim=-1).detach().cpu().numpy()\n",
    "    targ = targ.detach().cpu().numpy()\n",
    "    return recall_score(targ, pred, average='macro',zero_division=1)\n",
    "\n",
    "def f1score(inp, targ):\n",
    "    pred = inp[-1].argmax(dim=-1).detach().cpu().numpy()\n",
    "    targ = targ.detach().cpu().numpy()\n",
    "    return f1_score(targ, pred, average='macro')\n",
    "\n",
    "learn=Learner(loaders, \n",
    "              model,\n",
    "              loss_func=combined_loss,\n",
    "              splitter=siamese_splitter,\n",
    "              cbs=[ShowGraphCallback],\n",
    "              metrics=[accuracy,precision,recall,f1score])"
   ]
  },
  {
   "cell_type": "code",
   "execution_count": 11,
   "id": "5b0921ed",
   "metadata": {
    "execution": {
     "iopub.execute_input": "2024-05-02T06:18:47.702625Z",
     "iopub.status.busy": "2024-05-02T06:18:47.702302Z",
     "iopub.status.idle": "2024-05-02T06:25:26.123343Z",
     "shell.execute_reply": "2024-05-02T06:25:26.122440Z"
    },
    "papermill": {
     "duration": 398.431777,
     "end_time": "2024-05-02T06:25:26.125208",
     "exception": false,
     "start_time": "2024-05-02T06:18:47.693431",
     "status": "completed"
    },
    "tags": []
   },
   "outputs": [
    {
     "data": {
      "text/html": [
       "\n",
       "<style>\n",
       "    /* Turns off some styling */\n",
       "    progress {\n",
       "        /* gets rid of default border in Firefox and Opera. */\n",
       "        border: none;\n",
       "        /* Needs to be in here for Safari polyfill so background images work as expected. */\n",
       "        background-size: auto;\n",
       "    }\n",
       "    progress:not([value]), progress:not([value])::-webkit-progress-bar {\n",
       "        background: repeating-linear-gradient(45deg, #7e7e7e, #7e7e7e 10px, #5c5c5c 10px, #5c5c5c 20px);\n",
       "    }\n",
       "    .progress-bar-interrupted, .progress-bar-interrupted::-webkit-progress-bar {\n",
       "        background: #F44336;\n",
       "    }\n",
       "</style>\n"
      ],
      "text/plain": [
       "<IPython.core.display.HTML object>"
      ]
     },
     "metadata": {},
     "output_type": "display_data"
    },
    {
     "data": {
      "text/html": [
       "<table border=\"1\" class=\"dataframe\">\n",
       "  <thead>\n",
       "    <tr style=\"text-align: left;\">\n",
       "      <th>epoch</th>\n",
       "      <th>train_loss</th>\n",
       "      <th>valid_loss</th>\n",
       "      <th>accuracy</th>\n",
       "      <th>precision</th>\n",
       "      <th>recall</th>\n",
       "      <th>f1score</th>\n",
       "      <th>time</th>\n",
       "    </tr>\n",
       "  </thead>\n",
       "  <tbody>\n",
       "    <tr>\n",
       "      <td>0</td>\n",
       "      <td>5.185292</td>\n",
       "      <td>3.312796</td>\n",
       "      <td>0.162162</td>\n",
       "      <td>0.349776</td>\n",
       "      <td>0.275038</td>\n",
       "      <td>0.117768</td>\n",
       "      <td>00:14</td>\n",
       "    </tr>\n",
       "    <tr>\n",
       "      <td>1</td>\n",
       "      <td>4.578753</td>\n",
       "      <td>2.305676</td>\n",
       "      <td>0.521622</td>\n",
       "      <td>0.618219</td>\n",
       "      <td>0.578288</td>\n",
       "      <td>0.429151</td>\n",
       "      <td>00:11</td>\n",
       "    </tr>\n",
       "    <tr>\n",
       "      <td>2</td>\n",
       "      <td>3.885678</td>\n",
       "      <td>1.374367</td>\n",
       "      <td>0.737838</td>\n",
       "      <td>0.766440</td>\n",
       "      <td>0.744775</td>\n",
       "      <td>0.647734</td>\n",
       "      <td>00:11</td>\n",
       "    </tr>\n",
       "    <tr>\n",
       "      <td>3</td>\n",
       "      <td>3.095737</td>\n",
       "      <td>0.827084</td>\n",
       "      <td>0.818919</td>\n",
       "      <td>0.813947</td>\n",
       "      <td>0.814871</td>\n",
       "      <td>0.710650</td>\n",
       "      <td>00:11</td>\n",
       "    </tr>\n",
       "    <tr>\n",
       "      <td>4</td>\n",
       "      <td>2.457084</td>\n",
       "      <td>0.586866</td>\n",
       "      <td>0.856757</td>\n",
       "      <td>0.859272</td>\n",
       "      <td>0.852431</td>\n",
       "      <td>0.786504</td>\n",
       "      <td>00:11</td>\n",
       "    </tr>\n",
       "    <tr>\n",
       "      <td>5</td>\n",
       "      <td>1.945211</td>\n",
       "      <td>0.498525</td>\n",
       "      <td>0.867568</td>\n",
       "      <td>0.869293</td>\n",
       "      <td>0.858192</td>\n",
       "      <td>0.792632</td>\n",
       "      <td>00:11</td>\n",
       "    </tr>\n",
       "    <tr>\n",
       "      <td>6</td>\n",
       "      <td>1.557335</td>\n",
       "      <td>0.429827</td>\n",
       "      <td>0.881081</td>\n",
       "      <td>0.880230</td>\n",
       "      <td>0.882610</td>\n",
       "      <td>0.804085</td>\n",
       "      <td>00:11</td>\n",
       "    </tr>\n",
       "    <tr>\n",
       "      <td>7</td>\n",
       "      <td>1.268036</td>\n",
       "      <td>0.373273</td>\n",
       "      <td>0.897297</td>\n",
       "      <td>0.896038</td>\n",
       "      <td>0.901341</td>\n",
       "      <td>0.842920</td>\n",
       "      <td>00:11</td>\n",
       "    </tr>\n",
       "    <tr>\n",
       "      <td>8</td>\n",
       "      <td>1.070272</td>\n",
       "      <td>0.364194</td>\n",
       "      <td>0.891892</td>\n",
       "      <td>0.889655</td>\n",
       "      <td>0.890618</td>\n",
       "      <td>0.829115</td>\n",
       "      <td>00:11</td>\n",
       "    </tr>\n",
       "    <tr>\n",
       "      <td>9</td>\n",
       "      <td>0.919882</td>\n",
       "      <td>0.352284</td>\n",
       "      <td>0.918919</td>\n",
       "      <td>0.918027</td>\n",
       "      <td>0.913206</td>\n",
       "      <td>0.864215</td>\n",
       "      <td>00:11</td>\n",
       "    </tr>\n",
       "    <tr>\n",
       "      <td>10</td>\n",
       "      <td>0.774272</td>\n",
       "      <td>0.380831</td>\n",
       "      <td>0.894595</td>\n",
       "      <td>0.894177</td>\n",
       "      <td>0.893917</td>\n",
       "      <td>0.828178</td>\n",
       "      <td>00:11</td>\n",
       "    </tr>\n",
       "    <tr>\n",
       "      <td>11</td>\n",
       "      <td>0.709280</td>\n",
       "      <td>0.362432</td>\n",
       "      <td>0.913514</td>\n",
       "      <td>0.907230</td>\n",
       "      <td>0.920332</td>\n",
       "      <td>0.859704</td>\n",
       "      <td>00:11</td>\n",
       "    </tr>\n",
       "    <tr>\n",
       "      <td>12</td>\n",
       "      <td>0.632008</td>\n",
       "      <td>0.370872</td>\n",
       "      <td>0.900000</td>\n",
       "      <td>0.895648</td>\n",
       "      <td>0.895553</td>\n",
       "      <td>0.835657</td>\n",
       "      <td>00:11</td>\n",
       "    </tr>\n",
       "    <tr>\n",
       "      <td>13</td>\n",
       "      <td>0.580360</td>\n",
       "      <td>0.393945</td>\n",
       "      <td>0.889189</td>\n",
       "      <td>0.895411</td>\n",
       "      <td>0.899350</td>\n",
       "      <td>0.842851</td>\n",
       "      <td>00:11</td>\n",
       "    </tr>\n",
       "    <tr>\n",
       "      <td>14</td>\n",
       "      <td>0.550328</td>\n",
       "      <td>0.351608</td>\n",
       "      <td>0.924324</td>\n",
       "      <td>0.919380</td>\n",
       "      <td>0.924065</td>\n",
       "      <td>0.874217</td>\n",
       "      <td>00:11</td>\n",
       "    </tr>\n",
       "  </tbody>\n",
       "</table>"
      ],
      "text/plain": [
       "<IPython.core.display.HTML object>"
      ]
     },
     "metadata": {},
     "output_type": "display_data"
    },
    {
     "data": {
      "image/png": "[encoded data removed]",
      "text/plain": [
       "<Figure size 600x400 with 1 Axes>"
      ]
     },
     "metadata": {},
     "output_type": "display_data"
    },
    {
     "data": {
      "text/html": [
       "\n",
       "<style>\n",
       "    /* Turns off some styling */\n",
       "    progress {\n",
       "        /* gets rid of default border in Firefox and Opera. */\n",
       "        border: none;\n",
       "        /* Needs to be in here for Safari polyfill so background images work as expected. */\n",
       "        background-size: auto;\n",
       "    }\n",
       "    progress:not([value]), progress:not([value])::-webkit-progress-bar {\n",
       "        background: repeating-linear-gradient(45deg, #7e7e7e, #7e7e7e 10px, #5c5c5c 10px, #5c5c5c 20px);\n",
       "    }\n",
       "    .progress-bar-interrupted, .progress-bar-interrupted::-webkit-progress-bar {\n",
       "        background: #F44336;\n",
       "    }\n",
       "</style>\n"
      ],
      "text/plain": [
       "<IPython.core.display.HTML object>"
      ]
     },
     "metadata": {},
     "output_type": "display_data"
    },
    {
     "data": {
      "text/html": [
       "<table border=\"1\" class=\"dataframe\">\n",
       "  <thead>\n",
       "    <tr style=\"text-align: left;\">\n",
       "      <th>epoch</th>\n",
       "      <th>train_loss</th>\n",
       "      <th>valid_loss</th>\n",
       "      <th>accuracy</th>\n",
       "      <th>precision</th>\n",
       "      <th>recall</th>\n",
       "      <th>f1score</th>\n",
       "      <th>time</th>\n",
       "    </tr>\n",
       "  </thead>\n",
       "  <tbody>\n",
       "    <tr>\n",
       "      <td>0</td>\n",
       "      <td>0.415652</td>\n",
       "      <td>0.338541</td>\n",
       "      <td>0.918919</td>\n",
       "      <td>0.915312</td>\n",
       "      <td>0.919052</td>\n",
       "      <td>0.869435</td>\n",
       "      <td>00:14</td>\n",
       "    </tr>\n",
       "    <tr>\n",
       "      <td>1</td>\n",
       "      <td>0.365264</td>\n",
       "      <td>0.322447</td>\n",
       "      <td>0.927027</td>\n",
       "      <td>0.921856</td>\n",
       "      <td>0.929692</td>\n",
       "      <td>0.881051</td>\n",
       "      <td>00:14</td>\n",
       "    </tr>\n",
       "    <tr>\n",
       "      <td>2</td>\n",
       "      <td>0.368090</td>\n",
       "      <td>0.355978</td>\n",
       "      <td>0.908108</td>\n",
       "      <td>0.901222</td>\n",
       "      <td>0.912174</td>\n",
       "      <td>0.849285</td>\n",
       "      <td>00:14</td>\n",
       "    </tr>\n",
       "    <tr>\n",
       "      <td>3</td>\n",
       "      <td>0.359572</td>\n",
       "      <td>0.320146</td>\n",
       "      <td>0.921622</td>\n",
       "      <td>0.922659</td>\n",
       "      <td>0.923103</td>\n",
       "      <td>0.878520</td>\n",
       "      <td>00:14</td>\n",
       "    </tr>\n",
       "    <tr>\n",
       "      <td>4</td>\n",
       "      <td>0.349612</td>\n",
       "      <td>0.317911</td>\n",
       "      <td>0.918919</td>\n",
       "      <td>0.917773</td>\n",
       "      <td>0.929128</td>\n",
       "      <td>0.878458</td>\n",
       "      <td>00:14</td>\n",
       "    </tr>\n",
       "    <tr>\n",
       "      <td>5</td>\n",
       "      <td>0.334173</td>\n",
       "      <td>0.319862</td>\n",
       "      <td>0.927027</td>\n",
       "      <td>0.924379</td>\n",
       "      <td>0.928235</td>\n",
       "      <td>0.892002</td>\n",
       "      <td>00:14</td>\n",
       "    </tr>\n",
       "    <tr>\n",
       "      <td>6</td>\n",
       "      <td>0.318617</td>\n",
       "      <td>0.329167</td>\n",
       "      <td>0.913514</td>\n",
       "      <td>0.909495</td>\n",
       "      <td>0.916384</td>\n",
       "      <td>0.855683</td>\n",
       "      <td>00:14</td>\n",
       "    </tr>\n",
       "    <tr>\n",
       "      <td>7</td>\n",
       "      <td>0.294943</td>\n",
       "      <td>0.303290</td>\n",
       "      <td>0.929730</td>\n",
       "      <td>0.924125</td>\n",
       "      <td>0.925911</td>\n",
       "      <td>0.876526</td>\n",
       "      <td>00:14</td>\n",
       "    </tr>\n",
       "    <tr>\n",
       "      <td>8</td>\n",
       "      <td>0.285570</td>\n",
       "      <td>0.322225</td>\n",
       "      <td>0.929730</td>\n",
       "      <td>0.919559</td>\n",
       "      <td>0.922222</td>\n",
       "      <td>0.868993</td>\n",
       "      <td>00:14</td>\n",
       "    </tr>\n",
       "    <tr>\n",
       "      <td>9</td>\n",
       "      <td>0.268169</td>\n",
       "      <td>0.303017</td>\n",
       "      <td>0.929730</td>\n",
       "      <td>0.920954</td>\n",
       "      <td>0.922222</td>\n",
       "      <td>0.869125</td>\n",
       "      <td>00:14</td>\n",
       "    </tr>\n",
       "    <tr>\n",
       "      <td>10</td>\n",
       "      <td>0.239947</td>\n",
       "      <td>0.325105</td>\n",
       "      <td>0.932432</td>\n",
       "      <td>0.928103</td>\n",
       "      <td>0.930213</td>\n",
       "      <td>0.882375</td>\n",
       "      <td>00:14</td>\n",
       "    </tr>\n",
       "    <tr>\n",
       "      <td>11</td>\n",
       "      <td>0.223624</td>\n",
       "      <td>0.321781</td>\n",
       "      <td>0.929730</td>\n",
       "      <td>0.924757</td>\n",
       "      <td>0.931867</td>\n",
       "      <td>0.883522</td>\n",
       "      <td>00:14</td>\n",
       "    </tr>\n",
       "    <tr>\n",
       "      <td>12</td>\n",
       "      <td>0.216727</td>\n",
       "      <td>0.317069</td>\n",
       "      <td>0.932432</td>\n",
       "      <td>0.928290</td>\n",
       "      <td>0.929124</td>\n",
       "      <td>0.881874</td>\n",
       "      <td>00:14</td>\n",
       "    </tr>\n",
       "    <tr>\n",
       "      <td>13</td>\n",
       "      <td>0.195629</td>\n",
       "      <td>0.311728</td>\n",
       "      <td>0.932432</td>\n",
       "      <td>0.927547</td>\n",
       "      <td>0.933262</td>\n",
       "      <td>0.886179</td>\n",
       "      <td>00:14</td>\n",
       "    </tr>\n",
       "    <tr>\n",
       "      <td>14</td>\n",
       "      <td>0.190704</td>\n",
       "      <td>0.312254</td>\n",
       "      <td>0.932432</td>\n",
       "      <td>0.927547</td>\n",
       "      <td>0.933262</td>\n",
       "      <td>0.886179</td>\n",
       "      <td>00:14</td>\n",
       "    </tr>\n",
       "  </tbody>\n",
       "</table>"
      ],
      "text/plain": [
       "<IPython.core.display.HTML object>"
      ]
     },
     "metadata": {},
     "output_type": "display_data"
    },
    {
     "data": {
      "image/png": "[encoded data removed]",
      "text/plain": [
       "<Figure size 600x400 with 1 Axes>"
      ]
     },
     "metadata": {},
     "output_type": "display_data"
    }
   ],
   "source": [
    "learn.fine_tune(15,freeze_epochs=15)"
   ]
  },
  {
   "cell_type": "code",
   "execution_count": 12,
   "id": "2d6da2cd",
   "metadata": {
    "execution": {
     "iopub.execute_input": "2024-05-02T06:25:26.148417Z",
     "iopub.status.busy": "2024-05-02T06:25:26.147751Z",
     "iopub.status.idle": "2024-05-02T06:25:28.409340Z",
     "shell.execute_reply": "2024-05-02T06:25:28.408144Z"
    },
    "papermill": {
     "duration": 2.275785,
     "end_time": "2024-05-02T06:25:28.411676",
     "exception": false,
     "start_time": "2024-05-02T06:25:26.135891",
     "status": "completed"
    },
    "tags": []
   },
   "outputs": [],
   "source": [
    "hooks = Hooks(model.module.head.embedding if DP else model.head.embedding, lambda m,i,o: o)\n",
    "ftrs = tensor([]).cuda()\n",
    "for i in learn.dls.valid:\n",
    "    learn.model(i[0])\n",
    "    hooks_output = nn.Flatten()(hooks.stored[-1])\n",
    "    hooks_output = hooks_output.to(ftrs.device)  # move hooks_output to the same device as ftrs\n",
    "    ftrs = torch.cat((ftrs, hooks_output))"
   ]
  },
  {
   "cell_type": "code",
   "execution_count": 13,
   "id": "4d67b859",
   "metadata": {
    "execution": {
     "iopub.execute_input": "2024-05-02T06:25:28.433913Z",
     "iopub.status.busy": "2024-05-02T06:25:28.433603Z",
     "iopub.status.idle": "2024-05-02T06:25:31.090097Z",
     "shell.execute_reply": "2024-05-02T06:25:31.089150Z"
    },
    "papermill": {
     "duration": 2.670216,
     "end_time": "2024-05-02T06:25:31.092342",
     "exception": false,
     "start_time": "2024-05-02T06:25:28.422126",
     "status": "completed"
    },
    "tags": []
   },
   "outputs": [
    {
     "data": {
      "image/png": "[encoded data removed]",
      "text/plain": [
       "<Figure size 640x480 with 1 Axes>"
      ]
     },
     "metadata": {},
     "output_type": "display_data"
    }
   ],
   "source": [
    "from sklearn.manifold import TSNE\n",
    "tsne = TSNE(n_components=2)\n",
    "output = tsne.fit_transform(ftrs.cpu().detach().numpy())\n",
    "for i in range(len(output)):\n",
    "    plt.plot(output[i, 0], output[i, 1], '.')"
   ]
  },
  {
   "cell_type": "code",
   "execution_count": 14,
   "id": "8be08c60",
   "metadata": {
    "execution": {
     "iopub.execute_input": "2024-05-02T06:25:31.116245Z",
     "iopub.status.busy": "2024-05-02T06:25:31.115936Z",
     "iopub.status.idle": "2024-05-02T06:26:05.106139Z",
     "shell.execute_reply": "2024-05-02T06:26:05.105165Z"
    },
    "papermill": {
     "duration": 34.01626,
     "end_time": "2024-05-02T06:26:05.119853",
     "exception": false,
     "start_time": "2024-05-02T06:25:31.103593",
     "status": "completed"
    },
    "tags": []
   },
   "outputs": [
    {
     "name": "stderr",
     "output_type": "stream",
     "text": [
      "2024-05-02 06:25:47.299124: E external/local_xla/xla/stream_executor/cuda/cuda_dnn.cc:9261] Unable to register cuDNN factory: Attempting to register factory for plugin cuDNN when one has already been registered\n",
      "2024-05-02 06:25:47.299228: E external/local_xla/xla/stream_executor/cuda/cuda_fft.cc:607] Unable to register cuFFT factory: Attempting to register factory for plugin cuFFT when one has already been registered\n",
      "2024-05-02 06:25:47.427884: E external/local_xla/xla/stream_executor/cuda/cuda_blas.cc:1515] Unable to register cuBLAS factory: Attempting to register factory for plugin cuBLAS when one has already been registered\n"
     ]
    },
    {
     "data": {
      "image/png": "[encoded data removed]",
      "text/plain": [
       "<Figure size 640x480 with 1 Axes>"
      ]
     },
     "metadata": {},
     "output_type": "display_data"
    }
   ],
   "source": [
    "from umap import UMAP\n",
    "umap = UMAP(n_components=2)\n",
    "output = umap.fit_transform(ftrs.cpu().detach().numpy())\n",
    "for i in range(len(output)):\n",
    "    plt.plot(output[i, 0], output[i, 1], '.')"
   ]
  },
  {
   "cell_type": "code",
   "execution_count": null,
   "id": "a81c374e",
   "metadata": {
    "papermill": {
     "duration": 0.010989,
     "end_time": "2024-05-02T06:26:05.142121",
     "exception": false,
     "start_time": "2024-05-02T06:26:05.131132",
     "status": "completed"
    },
    "tags": []
   },
   "outputs": [],
   "source": []
  }
 ],
 "metadata": {
  "kaggle": {
   "accelerator": "gpu",
   "dataSources": [
    {
     "datasetId": 112480,
     "sourceId": 268736,
     "sourceType": "datasetVersion"
    },
    {
     "datasetId": 4085269,
     "sourceId": 7089718,
     "sourceType": "datasetVersion"
    },
    {
     "datasetId": 4840012,
     "sourceId": 8176477,
     "sourceType": "datasetVersion"
    }
   ],
   "dockerImageVersionId": 30699,
   "isGpuEnabled": true,
   "isInternetEnabled": true,
   "language": "python",
   "sourceType": "notebook"
  },
  "kernelspec": {
   "display_name": "Python 3",
   "language": "python",
   "name": "python3"
  },
  "language_info": {
   "codemirror_mode": {
    "name": "ipython",
    "version": 3
   },
   "file_extension": ".py",
   "mimetype": "text/x-python",
   "name": "python",
   "nbconvert_exporter": "python",
   "pygments_lexer": "ipython3",
   "version": "3.10.13"
  },
  "papermill": {
   "default_parameters": {},
   "duration": 519.303795,
   "end_time": "2024-05-02T06:26:08.691448",
   "environment_variables": {},
   "exception": null,
   "input_path": "__notebook__.ipynb",
   "output_path": "__notebook__.ipynb",
   "parameters": {},
   "start_time": "2024-05-02T06:17:29.387653",
   "version": "2.5.0"
  }
 },
 "nbformat": 4,
 "nbformat_minor": 5
}
